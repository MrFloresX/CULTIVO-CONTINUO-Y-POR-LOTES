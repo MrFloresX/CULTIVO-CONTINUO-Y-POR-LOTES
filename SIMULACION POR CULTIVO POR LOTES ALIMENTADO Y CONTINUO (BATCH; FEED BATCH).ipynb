{
 "cells": [
  {
   "attachments": {
    "image-2.png": {
     "image/png": "[encoded data removed]"
    }
   },
   "cell_type": "markdown",
   "id": "67ca79fb",
   "metadata": {},
   "source": [
    "## AUTOR\n",
    "\n",
    "## **<p style='text-align: center;'>LUIS EDGARD JUNIOR FLORES BEJARANO</p>**\n",
    "![image-2.png](attachment:image-2.png)\n",
    "\n"
   ]
  },
  {
   "cell_type": "markdown",
   "id": "7333c45f",
   "metadata": {},
   "source": [
    "## **ABSTRACT**\n",
    "\n",
    "Currently, poly(3-hydroxybutyrate) (PHB) is an alternative to replace conventional plastics. Bacteria of the genus Bacillus were the first microorganisms in which the accumulation of PHB was discovered. These microorganisms lack lipopeptides in their cell membrane, making their extraction easier, they are genetically very stable and have higher growth rates compared to other bacteria. Due to these and other qualities, researchers have been evaluating its use to produce PHAs.\n",
    "\n",
    "The objective of this work was to determine the batch and feed bacth simulation in jupyter notebook, to obtain the kinetic parameters for the batch and feef bacth simulation and their corresponding graphs in a Jupyer Notebook, using sources of carbon, nitrogen and other nutrients. . This work presents Bacillus subtilis iYO844 as a candidate for PHB production.\n",
    "\n",
    "**Keywords**: Bacillus subtilis iYO844, batch culture, feed bacth culture, PHB\n"
   ]
  },
  {
   "cell_type": "markdown",
   "id": "3147634d",
   "metadata": {},
   "source": [
    "## **RESUMEN**\t\n",
    "\n",
    "En la actualidad el poli(3-hidroxibutirato) (PHB) es una alternativa para el reemplazo de los plásticos convencionales. Las bacterias del género Bacillus fueron los primeros microorganismos en los que se descubrió la acumulación de PHB. Estos microorganismos carecen de lipopéptidos en su membrana celular, haciendo más fácil su extracción, son muy estables genéticamente y poseen tasas de crecimiento más altas en comparación con otras bacterias. Debido a estas y otras cualidades, los investigadores vienen evaluando su utilización para producir PHAs.\n",
    "\n",
    "El objetivo del presente trabajo fue determinar la simulación en batch y feed bacth en jupyter notebook, obtener los parámetros cinéticos para la simulación en batch y feef bacth y sus gráficas correspondientes en un cuaderno de Jupyer Notebook, utilizando fuentes de carbono, nitrógeno y otros nutrientes. Este trabajo presenta a Bacillus subtilis iYO844 como un candidato en la producción de PHB.\n",
    "\n",
    "**Palabras clave**: Bacillus subtilis iYO844, cultivo batch, cultivo feed bacth, PHB\n"
   ]
  },
  {
   "cell_type": "markdown",
   "id": "4a8cf458",
   "metadata": {},
   "source": [
    "## **INTRODUCCIÓN**\n",
    "\n",
    "En la actualidad, la mayoría de los plásticos se producen a partir de combustibles fósiles, los cuales no son renovables. Además, los plásticos de este origen no son biodegradables, por lo que se acumulan en el medio ambiente, permaneciendo inalterables en la superficie terrestre por años. Los plásticos biodegradables o bioplásticos aparecen como una alternativa a la utilización de los plásticos convencionales. (Almeida, 2010)\n",
    "Entre los materiales que se han desarrollado hasta la actualidad, los polihidroxialcanoatos (PHA) se presentan como uno de los polímeros verdes del futuro, que se espera reemplacen gradualmente a los plásticos tradicionales (Kourmentza et al., 2017, como se citó en Honorio, 2019). Los polihidroxialcanoatos fueron descubiertos en la década de 1920 por Lemoigne, quien aisló y caracterizó las inclusiones de poli(3-hidroxibutirato) en Bacillus megaterium (Lemoigne, 1926, como se citó en Almeida, 2010).\n",
    "Actualmente, existen varias compañías que se dedican a la producción de PHA a escala industrial (Kourmentza et al., 2017, como se citó en Honorio, 2019). Sin embargo, debido a su elevado costo, la aplicación de los PHAs en mercados de demanda masiva, como la industria del empaquetado y embalaje, es muy limitada (Hartley Yee & Ray Foster, 2014, como se citó en Honorio, 2019).\n",
    "Los costos de producción elevados de los PHAs están asociados principalmente al uso de materias primas de alta pureza como fuente de carbono y otros nutrientes, contribuyendo hasta en un 50% de los costos del proceso (Koller & Braunegg, 2018, como se citó en Honorio, 2019). En este aspecto, el empleo de materias primas residuales, baratas y abundantes, es una alternativa potencial que puede ayudar a reducir ampliamente el costo de estos biopolímeros, y así, aumentar su competitividad frente a los plásticos tradicionales (G. Kaur, 2015, como se citó en Honorio, 2019).\n",
    "Las bacterias del género Bacillus fueron los primeros microorganismos en los que se descubrió la acumulación de polihidroxibutirato (PHB), el PHA más común y el más estudiado. Además de ser muy estables genéticamente, y tener tasas de crecimiento más altas que otras bacterias, las especies de Bacillus son ventajosas al momento de producir PHAs porque carecen de lipopéptidos en su membrana celular, lo que facilita los procesos de extracción y purificación de estos biopolímeros (Mohapatra, Maity, et al., 2017, como se citó en Honorio, 2019). Adicionalmente, estos microorganismos pueden producir copolímeros de PHAs a partir de sustratos simples, baratos y diversos en estructura (Valappil, Boccaccini, Bucke, & Roy, 2007, como se citó en Honorio, 2019). Estas y otras cualidades han sido reconocidas por muchos investigadores, que ya vienen evaluando el uso de diversas cepas de Bacillus como productoras de PHAs a partir de numerosos residuos agroindustriales (Krueger & Radetski, 2012; Ramadas, Singh, Soccol, & Pandey, 2009; Santimano, Prabhu, & Garg, 2009; Halami, 2008, como se citó en Honorio, 2019). Gracias a su amplia capacidad para metabolizar diversos azúcares y producir múltiples enzimas extracelulares, se deberían explorar como candidatos para la producción de PHA (Honorio, 2019).\n"
   ]
  },
  {
   "cell_type": "markdown",
   "id": "9859e5ca",
   "metadata": {},
   "source": [
    "## **Objetivo General**\n",
    "\n",
    "Determinar la simulación en batch y feef bacth en jupyter notebook\n",
    "\n",
    "## **Objetivos Específicos**\n",
    "\n",
    "•\tObtención de los parámetros cinéticos para la simulación en batch y feef bacth\n",
    "\n",
    "•\tProducir PHB mediante el cultivo batch y Feed Batch por Bacillus subtilis iYO844\n",
    "\n",
    "•\tInterpretación de los resultados en simulación batch y feef bacth \n",
    "\n"
   ]
  },
  {
   "cell_type": "markdown",
   "id": "4511bb28",
   "metadata": {},
   "source": [
    "## **I.\tCapítulo 1: Los biopolímeros**\t"
   ]
  },
  {
   "cell_type": "markdown",
   "id": "d2734516",
   "metadata": {},
   "source": [
    "**El polihidroxibutirato (PHB)**\n",
    "\n",
    "Es un biopoliéster termoplástico producido por una gran variedad de bacterias, este biopolímero es acumulado como reserva de carbono y energía en condiciones limitantes de algún nutriente esencial para el crecimiento celular y en exceso de una fuente de carbono. En otras palabras, el PHB es para las bacterias lo que el almidón es para las plantas y la grasa para los animales. El homopolímero contiene como monómero el ácido 3-hidroxibutírico, el biopolímero es producido en forma de gránulos insolubles en el citoplasma celular, los cuales pueden ser observados claramente por el uso de microscopia electrónica de transmisión (López, 2011).\n"
   ]
  },
  {
   "cell_type": "markdown",
   "id": "727b4c22",
   "metadata": {},
   "source": [
    "## **II.\tCapítulo 2: Producción de PHB a partir de Bacillus subtilis**"
   ]
  },
  {
   "cell_type": "markdown",
   "id": "cc9dea83",
   "metadata": {},
   "source": [
    "**2.1\tMateriales y Métodos**\t"
   ]
  },
  {
   "cell_type": "markdown",
   "id": "7e527491",
   "metadata": {},
   "source": [
    "**2.1.1\tCepas Bacterianas**\n",
    "\n",
    "Existen más de 250 microorganismos productores naturales de PHB, pero las principales limitaciones de las bacterias respecto a la producción natural de PHB a escala industrial son: el complicado deterioro de las células para liberación de moléculas (lisis) para la extracción final del polímero, una baja densidad celular y un excesivo tiempo en alcanzar la máxima densidad. Además, para abaratar los costos de producción surge la necesidad de utilizar como sustratos o materia prima simple y/o barata, reutilizar los residuos de otras industrias.\n",
    "\n",
    "Por otra parte, las bacterias Gram positivas como el género Bacillus no contienen LPS en su membrana, tienen un rápido crecimiento en sustratos económicos, toleran altas temperaturas, tienen altas presiones osmóticas y han sido utilizados para la producción industrial de PHB.\n",
    "\n",
    "**2.1.1.1 Bacillus subtilis iYO844**\n",
    "\n",
    "Las bacterias del género Bacillus son conocidas acumuladoras de PHA (G.-Q. Chen, König, & Lafferty, 1991, como se citó en Honorio, 2019). De hecho, el primer PHA en ser descubierto y el más estudiado, el poli-3-hidroxibutirato o PHB, fue reportado en la bacteria Bacillus megaterium, en 1926. En algunos casos, se ha reportado que las bacterias de este género pueden llegar a acumular más del 80% de su peso en PHA (Mohapatra, Maity, et al., 2017, como se citó en Honorio, 2019).\n",
    "\n",
    "Como productoras de PHA, las bacterias del género Bacillus ofrecen muchas otras ventajas. Al ser bacterias Gram-positivas, estas bacterias no poseen lipopolisacáridos, que son indeseables en aplicaciones biomédicas, lo que facilita el procesamiento del PHA después de la fermentación (Mohapatra, Maity, et al., 2017, como se citó en Honorio, 2019).\n",
    "\n",
    "Las cepas de B. subtilis utilizadas en prácticamente todas las investigaciones académicas y muchos procesos industriales se derivan de un solo auxótrofo que requiere triptófano, la cepa 168. A pesar de su importancia central para la investigación, nuestro conocimiento de la herencia genómica de esta cepa es incompleto. La cepa 168 se aisló después de que dos botánicos de la Universidad de Yale, Paul Burkholder y Norman Giles, mutagenizaran B. subtilis Marburg con rayos X (Burkholder y Giles, 1947, como se citó en Zeigler et al., 2008).\n",
    "\n",
    "La cepa 168 se difundió posteriormente por todo el mundo. Los investigadores pronto desarrollaron métodos genéticos clásicos, y más tarde, tecnologías genómicas y recombinantes, para dilucidar la fisiología y el desarrollo de esporas de esta cepa Fuente especificada no válida.\n"
   ]
  },
  {
   "cell_type": "markdown",
   "id": "a2415b87",
   "metadata": {},
   "source": [
    "**BiGG Models**\n",
    "\n",
    "Se descargo el modelo de BiGG Models “Bacillus subtilis iYO844” y se leyó en Jupyter Notebook\n"
   ]
  },
  {
   "cell_type": "markdown",
   "id": "00f501e7",
   "metadata": {},
   "source": [
    "**2.1.2\tMedio de cultivo de la Bacillus subtilis**\n",
    "\n",
    "La cepa se cultivó en medio de cultivo caldo nutritivo (Atlas, 1997) que contenía (g L-1) peptona, 2.5; NaCl, 2,5; extracto de levadura 1,0; extracto de carne de vacuno 0,5. Los cultivos (100 ml en copos de erlenmayer de 250 ml) se inocularon con un inóculo al 2% (v/v) y se incubaron a 37°-30°C con agitación orbital vigorosa a 225-250 rpm.\n"
   ]
  },
  {
   "cell_type": "markdown",
   "id": "dc4f571a",
   "metadata": {},
   "source": [
    "## **2.1.3\tCultivo batch**\n",
    "\n",
    "En la fermentación batch todos los sustratos - excepto el oxígeno en procesos aeróbicos - se encuentran disponibles en concentraciones suficientemente altas para que permitan el crecimiento celular no restringido en sustratos. La biomasa en un proceso batch crece exponencialmente al máximo permisible dependiendo del microorganismo, las condiciones físicas y ambientales. Dicho crecimiento exponencial ocurre a una tasa específica de crecimiento máxima (µmáx, función del medio de cultivo, temperatura y pH), hasta que algún factor, como concentración inhibitoria de un compuesto secundario, baja concentración del sustrato limitante, o el cambio metabólico a una fuente alternativa de sustrato (en medios complejos) reducen la tasa específica de crecimiento (Enfors, 2011, como se citó en Cárcamo, 2013). El sistema batch corresponde a un sistema cerrado, a excepción de sustratos gaseosos (e.g. oxígeno o gases inertes para desorber CO2), agentes controladores de pH y a veces antiespumante. La fermentación batch es iniciada por la adición de un inóculo celular al medio de cultivo. El inóculo es un cultivo celular con el que se inicia la proliferación celular. (Cárcamo, 2013)\n"
   ]
  },
  {
   "cell_type": "markdown",
   "id": "790d152b",
   "metadata": {},
   "source": [
    "**Ecuaciones:**\n"
   ]
  },
  {
   "cell_type": "markdown",
   "id": "19591142",
   "metadata": {},
   "source": [
    "### funcion especifica\n",
    "$$\n",
    "\\begin{align}\n",
    "    \\mu &= \\mu_{max} \\cdot \\frac{c_S}{k_S + c_S}\\\\\n",
    "    q_S &= -\\frac{1}{Y_{X/S}} \\cdot \\mu \\\\\n",
    "    q_P &= Y_{P/X} \\cdot \\mu\n",
    "\\end{align}\n",
    "$$\n",
    "\n",
    "### derivando \n",
    "$$\n",
    "\\begin{align}\n",
    "    \\frac{dc_X}{dt} &= \\mu \\cdot c_X & c_X \\left(t_0\\right) = c_{X,0}\\\\\n",
    "    \\frac{dc_S}{dt} &= q_S \\cdot c_X & c_S \\left(t_0\\right) = c_{S,0}\\\\\n",
    "    \\frac{dc_P}{dt} &= q_P \\cdot c_X & c_P \\left(t_0\\right) = c_{P,0}\\\\\n",
    "\\end{align}\n",
    "$$\n",
    "\n",
    "### modelo de parametros\n",
    "$$\n",
    "\\begin{align}\n",
    "    \\mathbf{\\theta_x} &= \\left[k_S \\; \\mu_{max} \\; Y_{P/X} \\; Y_{X/S}\\right]^T\\\\\n",
    "    \\mathbf{x}_0 &= \\left[c_{P,0} \\; c_{S,0} \\; c_{X,0}\\right]^T\n",
    "\\end{align}\n",
    "$$"
   ]
  },
  {
   "cell_type": "markdown",
   "id": "80dee8c7",
   "metadata": {},
   "source": [
    "## **2.1.4        Cultivo feed batch** \n",
    "\n",
    "En los sistemas de cultivo fed batch una solución concentrada del sustrato limitante es alimentada al sistema con el fin de aumentar el crecimiento celular más allá del permisible en la fase batch (S-O Enfors 2011, como se citó en Cárcamo, 2013).\n",
    "El medio de alimentación es comúnmente una solución concentrada de la fuente de carbono/energía (en vez del medio completo utilizado para cultivos continuos), comúnmente la concentración máxima posible, de modo de minimizar el aumento del volumen del medio de cultivo. A su vez se suele complementar con elementos trazas y vitaminas (Cárcamo, 2013).\n",
    "La fermentación feed batch en general es la estrategia de elección con fines productivos. Sin embargo, dicha técnica posee una serie de desventajas, como la inhibición por sustrato, transferencia de oxígeno limitada, formación de compuestos secundarios inhibitorios y limitaciones de disipación de calor (Wang & Lee, 1998, como se citó en Cárcamo, 2013).\n",
    "\n",
    "La acción de control sigue una estrategia fija, que generalmente consiste en controlar la tasa específica de crecimiento a un valor lo más grande posible evitando el metabolismo de sobreflujo (ocasionado por una fermentación mixta). En la fermentación mixta, posiblemente por una limitación río abajo de la glicólisis, la fuente carbonada no es completamente oxidada produciendo compuestos secundarios, que a su vez son inhibidores del crecimiento celular. Al restringir su formación es posible prolongar el crecimiento celular y aumentar los parámetros productivos. En caso de existir restricciones físicas de transferencias de oxígeno, el control debe considerar dicha restricción adicional mediante una estrategia de control diferente (Cárcamo, 2013).\n"
   ]
  },
  {
   "cell_type": "markdown",
   "id": "c4b94019",
   "metadata": {},
   "source": [
    "**Ecuaciones:**"
   ]
  },
  {
   "cell_type": "markdown",
   "id": "00a5047d",
   "metadata": {},
   "source": [
    "### Ecuaciones del Modelo\n",
    "\n",
    "### funcion especifica\n",
    "$$\n",
    "\\begin{align}\n",
    "    \\mu &= \\mu_{max} \\cdot \\frac{c_{S}}{k_{S} + c_{S}}\\\\\n",
    "    q_{S} &= -\\frac{1}{Y_{X/S}}\\cdot \\mu\\\\\n",
    "    q_P &= Y_{P/X} \\cdot \\mu \\\\\n",
    "\\end{align} \n",
    "$$\n",
    "\n",
    "\n",
    "#### perfil de alimentacion\n",
    "$$\n",
    "\\begin{align}\n",
    "    F &=\n",
    "    \\begin{cases}\n",
    "        0 & t < t_F \\wedge V_L > V_{L,max}\\\\\n",
    "        \\frac{c_{S,0} \\cdot V_{L,0} \\cdot \\mu_{Set}}{c_{S,F} - c_S} \\cdot e^{\\mu_{Set} \\left( t - t_F\\right)} & t \\geq t_F \\\\\n",
    "    \\end{cases}\\\\\n",
    "\\end{align}\n",
    "$$\n",
    "\n",
    "#### derivando\n",
    "$$\n",
    "\\begin{align}\n",
    "    \\frac{dc_X}{dt} &= \\mu \\cdot c_X - \\frac{F}{V_L} \\cdot c_x, & c_X \\left(t_0\\right) = c_{X,0}\\\\\n",
    "    \\frac{dc_{S}}{dt} &= q_{S} \\cdot c_X + \\frac{F}{V_L}\\left(c_{S,F} - c_S \\right), & c_{S} \\left(t_0\\right) = c_{S,0}\\\\\n",
    "    \\frac{dc_P}{dt} &= q_P \\cdot c_X - \\frac{F}{V_L} \\cdot c_x, & c_P \\left(t_0\\right) = c_{P,0}\\\\\n",
    "    \\frac{V_L}{dt} &= F, & V_L \\left(t_0\\right) = V_{L,0}\\\\\n",
    "\\end{align}\n",
    "$$\n",
    "\n",
    "\n",
    "### Parametrizacion\n",
    "$$\n",
    "\\begin{align}\n",
    "    \\mathbf{\\theta} &= \\left[c_{S,F} \\; k_{S} \\; m_S \\; \\mu_{max}\\; \\mu_{Set} \\; t_F \\; Y_{P/X} \\; Y_{X/S} \\; V_{L,max} \\; c_{P,0} \\; c_{S,0} \\; c_{X,0} \\; V_{L,0}\\right]^T\\\\\n",
    "\\end{align}\n",
    "$$"
   ]
  },
  {
   "cell_type": "markdown",
   "id": "96a06038",
   "metadata": {},
   "source": [
    "Los rendimientos en biomasa y producto son parámetros de gran importancia pues dan una medida de la eficacia de conversión del sustrato en biomasa y productos. Un proceso destinado a la producción de biomasa tendrá como objetivo maximizar Yx/s y minimizar Yp/s.\n",
    "\n",
    "Los parámetros cinéticos determinados mediante simulación y estimación de parámetros fueron: \n",
    "\n",
    "μmáx=velocidad máxima de crecimiento (s-1)\n",
    "\n",
    "S= Sustrato (g/L)\n",
    "\n",
    "Ks=Constante de Monod (g/L)\n",
    "\n",
    "μ=constante de crecimiento celular (s-1)\n",
    "\n",
    "X=concentración celular (Kg/m3)\n",
    "\n",
    "Yx/s= Rendimiento de biomasa durante el crecimiento (g/g)\n",
    "\n",
    "Yx/p= Rendimiento de producto durante el crecimiento (g/g)\n",
    "\n"
   ]
  },
  {
   "cell_type": "markdown",
   "id": "57e1c540",
   "metadata": {},
   "source": [
    "**Procedimiento**"
   ]
  },
  {
   "cell_type": "code",
   "execution_count": 1,
   "id": "d9b978c0",
   "metadata": {
    "scrolled": true
   },
   "outputs": [],
   "source": [
    "from cobra.io import read_sbml_model, write_sbml_model # Para leer archivo sbml\n",
    "model = read_sbml_model('datos/iYO844.xml')  \n",
    "write_sbml_model(model, 'datos/iYO844.xml')"
   ]
  },
  {
   "cell_type": "code",
   "execution_count": 2,
   "id": "fa42fd3b",
   "metadata": {},
   "outputs": [
    {
     "name": "stdout",
     "output_type": "stream",
     "text": [
      "Número de genes: 844\n",
      "Número de reacciones: 1250\n",
      "Número de metabolitos: 990\n"
     ]
    }
   ],
   "source": [
    "g = len(model.genes)\n",
    "r = len(model.reactions)\n",
    "m = len(model.metabolites)\n",
    "\n",
    "print('Número de genes:', g)\n",
    "print('Número de reacciones:', r)\n",
    "print('Número de metabolitos:', m)"
   ]
  },
  {
   "cell_type": "markdown",
   "id": "21f2fc63",
   "metadata": {},
   "source": [
    "## FBA"
   ]
  },
  {
   "cell_type": "code",
   "execution_count": 3,
   "id": "83dd12d6",
   "metadata": {},
   "outputs": [],
   "source": [
    "solution = model.optimize()  # Para optimizar modelo "
   ]
  },
  {
   "cell_type": "code",
   "execution_count": 4,
   "id": "d872b17a",
   "metadata": {},
   "outputs": [
    {
     "name": "stdout",
     "output_type": "stream",
     "text": [
      "EX_etha_e 0.0 Ethanolamine exchange\n",
      "EX_drib_e 0.0 Deoxy D Ribose exchange\n",
      "EX_csn_e 0.0 Cytosine exchange\n",
      "EX_5mtr_e 0.0 5-Methylthio-D-ribose exchange\n",
      "EX_dtmp_e 0.0 DTMP exchange\n",
      "EX_6pgc_e 0.0 6 Phospho D gluconate exchange\n",
      "EX_ctbt_e 0.0 Crotonobetaine exchange\n",
      "EX_cu2_e 0.0 Cu2+ exchange\n",
      "EX_Larab_e 0.0 Alpha L Arabinan exchange\n",
      "EX_ectoine_e 0.0 Ectoine exchange\n",
      "EX_cys__D_e 0.0 D-Cysteine exchange\n",
      "EX_cys__L_e 0.0 L-Cysteine exchange\n",
      "EX_eths_e 0.0 Ethanesulfonate exchange\n",
      "EX_cyst__L_e 0.0 L Cystine exchange\n",
      "EX_Lcyst_e 0.0 L-Cysteate exchange\n",
      "EX_cytd_e 0.0 Cytidine exchange\n",
      "EX_abt__L_e 0.0 L Arabinitol exchange\n",
      "EX_etoh_e 0.0 Ethanol exchange\n",
      "EX_dad_2_e 0.0 Deoxyadenosine exchange\n",
      "EX_dcyt_e 0.0 Deoxycytidine exchange\n",
      "EX_fe2_e 0.0 Fe2+ exchange\n",
      "EX_dextrin_e 0.0 Dextrin exchange\n",
      "EX_dha_e 0.0 Dihydroxyacetone exchange\n",
      "EX_ac_e 0.0 Acetate exchange\n",
      "EX_acac_e 0.0 Acetoacetate exchange\n",
      "EX_fe3_e -0.00040698404316227453 Fe3+ exchange\n",
      "EX_ferrich_e 0.0 Ferrichrome exchange\n",
      "EX_diact_e 0.0 Diacetyl exchange\n",
      "EX_djenk_e 0.0 Djenkolate exchange\n",
      "EX_ferxa_e 0.0 Ferroxamine exchange\n",
      "EX_fol_e 0.0 EX fol LPAREN e RPAREN \n",
      "EX_acgam_e 0.0 N-Acetyl-D-glucosamine exchange\n",
      "EX_acmana_e 0.0 N-Acetyl-D-mannosamine exchange\n",
      "EX_acnam_e 0.0 N-Acetylneuraminate exchange\n",
      "EX_for_e 0.0 Formate exchange\n",
      "EX_fru_e 0.0 D-Fructose exchange\n",
      "EX_actn__R_e 0.0 EX actn R LPAREN e RPAREN \n",
      "EX_ade_e 0.0 Adenine exchange\n",
      "EX_adn_e 0.0 Adenosine exchange\n",
      "EX_akg_e 0.0 2-Oxoglutarate exchange\n",
      "EX_ala_B_e 0.0 Beta-Alanine exchange\n",
      "EX_ala__D_e 0.0 D-Alanine exchange\n",
      "EX_ala_L_Thr__L_e 0.0 Ala L Thr L exchange\n",
      "EX_ala_L_asp__L_e 0.0 Ala L asp L exchange\n",
      "EX_ala__L_e 0.0 L-Alanine exchange\n",
      "EX_ala_L_gln__L_e 0.0 Ala Gln exchange\n",
      "EX_ala_L_glu__L_e 0.0 Ala L glu L exchange\n",
      "EX_L_alagly_e 0.0 Ala L gly exchange\n",
      "EX_ala_L_his__L_e 0.0 Ala His exchange\n",
      "EX_ala_L_leu__L_e 0.0 Ala Leu exchange\n",
      "EX_g6p_e 0.0 D-Glucose 6-phosphate exchange\n",
      "EX_gal_e 0.0 D-Galactose exchange\n",
      "EX_galctr__D_e 0.0 D Galactarate exchange\n",
      "EX_galt_e 0.0 Galactitol exchange\n",
      "EX_galur_e 0.0 D-Galacturonate exchange\n",
      "EX_gam6p_e 0.0 D-Glucosamine 6-phosphate exchange\n",
      "EX_gam_e 0.0 D-Glucosamine exchange\n",
      "EX_gbbtn_e 0.0 Gamma-butyrobetaine exchange\n",
      "EX_glc__D_e -1.7 D-Glucose exchange\n",
      "EX_glcn__D_e 0.0 D Gluconate exchange\n",
      "EX_glcr_e 0.0 D-Glucarate exchange\n",
      "EX_glcur_e 0.0 D-Glucuronate exchange\n",
      "EX_gln__L_e 0.0 L-Glutamine exchange\n",
      "EX_glu__D_e 0.0 D Glutamate exchange\n",
      "EX_alaala_e 0.0 D-Alanyl-D-alanine exchange\n",
      "EX_alltn_e 0.0 Allantoin exchange\n",
      "EX_amp_e 0.0 AMP exchange\n",
      "EX_amylase_e 0.0 Mature Bacillus subtilis amylase exchange\n",
      "EX_fum_e 0.0 Fumarate exchange\n",
      "EX_antim_e 0.0 Antimonite exchange\n",
      "EX_g1p_e 0.0 D-Glucose 1-phosphate exchange\n",
      "EX_glu__L_e 0.0 L-Glutamate exchange\n",
      "EX_arab__D_e 0.0 D Arabinose exchange\n",
      "EX_arab__L_e 0.0 L-Arabinose exchange\n",
      "EX_arbt_e 0.0 Arbutin exchange\n",
      "EX_arg__L_e 0.0 L-Arginine exchange\n",
      "EX_argp_e 0.0 L Arginine phosphate exchange\n",
      "EX_arsenb_e 0.0 ARSENOBETAINE exchange\n",
      "EX_arsna_e 0.0 Arsenate exchange\n",
      "EX_arsni2_e 0.0 Arsenite exchange\n",
      "EX_asn__L_e 0.0 L-Asparagine exchange\n",
      "EX_asp__L_e 0.0 L-Aspartate exchange\n",
      "EX_bilea_e 0.0 Bile acid exchange\n",
      "EX_btd_RR_e 0.0  R R  2 3 Butanediol exchange\n",
      "EX_glx_e 0.0 Glyoxylate exchange\n",
      "EX_buts_e 0.0 Butanesulfonate exchange\n",
      "EX_ca2_e -0.0003780822777782869 Calcium exchange\n",
      "EX_cbl2_e 0.0 Cob II alamin exchange\n",
      "EX_pur_e 0.0 Puromycin exchange\n",
      "EX_pyr_e 0.0 Pyruvate exchange\n",
      "EX_cd2_e 0.0 Cadmium exchange\n",
      "EX_gly_asn__L_e 0.0 Gly asn L exchange\n",
      "EX_cellb_e 0.0 Cellobiose exchange\n",
      "EX_cgly_e 0.0 Cys-Gly exchange\n",
      "EX_raffin_e 0.0 Raffinose exchange\n",
      "EX_rib__D_e 0.0 D-Ribose exchange\n",
      "EX_gly_asp__L_e 0.0 Gly asp L exchange\n",
      "EX_ribflv_e 0.0 Riboflavin exchange\n",
      "EX_chitob_e 0.0 Chitobiose exchange\n",
      "EX_gly_e 0.0 Glycine exchange\n",
      "EX_chol_e 0.0 Choline exchange\n",
      "EX_rmn_e 0.0 L-Rhamnose exchange\n",
      "EX_gly_gln__L_e 0.0 Gly Gln exchange\n",
      "EX_chols_e 0.0 EX chols LPAREN e RPAREN \n",
      "EX_chor_e 0.0 Chorismate exchange\n",
      "EX_cit_e 0.0 Citrate exchange\n",
      "EX_salcn_e 0.0 Salicin exchange\n",
      "EX_gly_glu__L_e 0.0 Gly glu L exchange\n",
      "EX_sbt__D_e 0.0 D-Sorbitol exchange\n",
      "EX_ser__D_e 0.0 D-Serine exchange\n",
      "EX_citr__L_e 0.0 L-Citrulline exchange\n",
      "EX_cmp_e 0.0 CMP exchange\n",
      "EX_ser__L_e 0.0 L-Serine exchange\n",
      "EX_gly_met__L_e 0.0 Gly Met exchange\n",
      "EX_so4_e -0.02009156356383357 Sulfate exchange\n",
      "EX_spmd_e 0.0 Spermidine exchange\n",
      "EX_co2_e 5.980675626954003 CO2 exchange\n",
      "EX_cobalt2_e 0.0 Co2+ exchange\n",
      "EX_crn_e 0.0 L-Carnitine exchange\n",
      "EX_cro4_e 0.0 Chromate exchange\n",
      "EX_srb__L_e 0.0 L Sorbose exchange\n",
      "EX_starch_e 0.0 Starch exchange\n",
      "EX_subtilisin_e 0.0 Mature Bacillus subtilis subtilisin exchange\n",
      "EX_succ_e 0.0 Succinate exchange\n",
      "EX_sucr_e 0.0 Sucrose exchange\n",
      "EX_gly_pro__L_e 0.0 Gly pro L exchange\n",
      "EX_sula_e 0.0 Sulfoacetate exchange\n",
      "EX_taur_e 0.0 Taurine exchange\n",
      "EX_glyb_e 0.0 Glycine betaine exchange\n",
      "EX_thiog_e 0.0 Thioglycolate exchange\n",
      "EX_glyc3p_e 0.0 Glycerol 3-phosphate exchange\n",
      "EX_glyc_e 0.0 Glycerol exchange\n",
      "EX_glyclt_e 0.0 Glycolate exchange\n",
      "EX_glycogen_e 0.0 Glycogen exchange\n",
      "EX_gmp_e 0.0 GMP exchange\n",
      "EX_gsn_e 0.0 Guanosine exchange\n",
      "EX_thr__L_e 0.0 L-Threonine exchange\n",
      "EX_gthox_e 0.0 Oxidized glutathione exchange\n",
      "EX_thym_e 0.0 Thymine exchange\n",
      "EX_gthrd_e 0.0 Reduced glutathione exchange\n",
      "EX_thymd_e 0.0 Thymidine exchange\n",
      "EX_gua_e 0.0 Guanine exchange\n",
      "EX_tmp_e 0.0 Trimetaphosphate exchange\n",
      "EX_tre_e 0.0 Trehalose exchange\n",
      "EX_trp__L_e 0.0 L-Tryptophan exchange\n",
      "EX_h2o2_e 0.0 Hydrogen peroxide exchange\n",
      "EX_tyr__L_e 0.0 L-Tyrosine exchange\n",
      "EX_h2o_e 7.869819466992122 H2O exchange\n",
      "EX_ump_e 0.0 UMP exchange\n",
      "EX_ura_e 0.0 Uracil exchange\n",
      "3UMPt6 0.0 3  UMP transport in via proton symport\n",
      "EX_h_e 0.7676647449524197 H+ exchange\n",
      "5MTRt2 0.0 5 Methylthio D ribose transport inout via proton symport\n",
      "6PGCt6 0.0 6 Phospho D gluconate transport inout via proton symport\n",
      "EX_urate_e 0.0 Urate exchange\n",
      "2HXMPt6 0.0 2  hydroxymethyl phenol transport inout via proton symport\n",
      "EX_hexs_e 0.0 Hexanesulfonate exchange\n",
      "2PGLYCt6 0.0 2 Phosphoglycolate transport inout via proton symport\n",
      "2PGt6 0.0 D Glycerate 2 phosphate transport inout via proton symport\n",
      "3AMPt6 0.0 3  AMP transport inout via proton symport\n",
      "3CMPt6 0.0 3  CMP transport in via proton symport\n",
      "EX_urea_e 0.0 Urea exchange\n",
      "EX_uri_e 0.0 Uridine exchange\n",
      "EX_val__L_e 0.0 L-Valine exchange\n",
      "EX_xan_e 0.0 Xanthine exchange\n",
      "EX_xtsn_e 0.0 Xanthosine exchange\n",
      "EX_xyl__D_e 0.0 D-Xylose exchange\n",
      "EX_zn2_e 0.0 Zinc exchange\n",
      "3GMPt6 0.0 Guanosine 3  phsophate transport inout via proton symport\n",
      "3PGt6 0.0 3 Phospho D glycerate transport inout via proton symport\n",
      "ABTt_1 0.0 L arabinitol transport via passive diffusion\n",
      "F6Pt6_2 0.0 Fructose 6 phosphate transport via phosphate antiport\n",
      "EX_hg2_e 0.0 Hg2+ exchange\n",
      "EX_his__L_e 0.0 L-Histidine exchange\n",
      "EX_hqn_e 0.0 Hydroquinone exchange\n",
      "EX_hxan_e 0.0 Hypoxanthine exchange\n",
      "PHEt2r 0.0 L phenylalanine reversible transport via proton symport\n",
      "ACACt2 0.0 Acetoacetate transport via proton symport\n",
      "EX_icit_e 0.0 Isocitrate exchange\n",
      "2S6HCCi 3.137905955969026e-05 2 succinyl 6 hydroxy 2 4 cyclohexadiene 1 carboxylate synthase\n",
      "26DPAi 0.0 Dipicolinate synthase\n",
      "3AMBAt2 0.0 3 aminobutyrate transport in via proton symport\n",
      "FDH 0.0009328782067644727 Formate dehydrogenase\n",
      "FDMO_1 0.0 FmnRD dependent monooxygenase  methanesulfonate \n",
      "EX_ile__L_e 0.0 L-Isoleucine exchange\n",
      "AAMYL_1 0.0 Alpha amylase\n",
      "EX_inost_e 0.0 Myo-Inositol exchange\n",
      "EX_ins_e 0.0 Inosine exchange\n",
      "EX_istnt_e 0.0 Isethionate exchange\n",
      "ABTA 0.0 4-aminobutyrate transaminase\n",
      "EX_k_e -0.08332107637508172 K+ exchange\n",
      "EX_lac__L_e 0.0 L-Lactate exchange\n",
      "EX_lanth_e 0.0 Lanthionine exchange\n",
      "FBA 1.5836747984079802 Fructose-bisphosphate aldolase\n",
      "EX_lcts_e 0.0 Lactose exchange\n",
      "FBA2 0.0 D Fructose 1 phosphate D glyceraldehyde 3 phosphate lyase\n",
      "FBP 0.0 Fructose-bisphosphatase\n",
      "FCLT_2 0.0 Heme B synthesis reaction\n",
      "FDMO1 0.0 FMN dependent monooxygenase  ethanesulfonate \n",
      "FDMO2_1 0.0 FMN dependent monooxygenase  butanesulfonate \n",
      "FDMO3_1 0.0 FMN dependent monooxygenase  hexanesulfonate \n",
      "AB6PGH 0.0 Arbutin 6-phosphate glucohydrolase\n",
      "ABUTD 0.0 Aminobutyraldehyde dehydrogenase\n",
      "MACCOAT 1.734723475976807e-18 2-Methylacetyl-CoA thiolase\n",
      "ACACT2r 0.003300227707683838 Acetyl-CoA C-acyltransferase (butanoyl-CoA) (r)\n",
      "ACACT3r 0.003300227707683838 Acetyl-CoA C-acyltransferase (hexanoyl-CoA) (r)\n",
      "ACACT4r 0.003300227707683838 Acetyl-CoA C-acyltransferase (octanoyl-CoA) (r)\n",
      "ACACT5r_1 0.003300227707683838 Acetyl CoA C acyltransferase  decanoyl CoA \n",
      "ACACT6r_1 0.003300227707683838 Acetyl CoA C acyltransferase  dodecanoyl CoA \n",
      "ACACT7r 0.002538636698218338 Acetyl-CoA C-acyltransferase (tetradecanoyl-CoA) (r)\n",
      "FDMO4_1 0.0 FMN dependent monooxygenase  taurine \n",
      "FDMO5_1 0.0 FMN dependent monooxygenase  sulfoacetate \n",
      "FDMO6_1 0.0 FMN dependent monooxygenase  isethionate \n",
      "ACACT1r 0.003300227707683838 Acetyl-CoA C-acetyltransferase\n",
      "ACCOAC 0.1200775158257272 Acetyl-CoA carboxylase\n",
      "EX_leu__L_e 0.0 L-Leucine exchange\n",
      "ACGApts 0.0 N-Acetyl-D-glucosamine transport via PEP:Pyr PTS\n",
      "ACGK 0.022769990433398623 Acetylglutamate kinase\n",
      "FE2abc 0.0 Iron (II) transport via ABC system\n",
      "EX_lipt_e 0.0 Lipoate exchange\n",
      "ACGS 0.0 N-acetylglutamate synthase\n",
      "EX_lys__L_e 0.0 L-Lysine exchange\n",
      "FOLD3 4.329366488132846e-05 Dihydropteroate synthase\n",
      "ACMANAt2 0.0 N acetyl D mannosamine proton symport\n",
      "ACNAMt2 0.0 N-acetylneuraminate proton symport\n",
      "EX_madg_e 0.0 Alpha Methyl D glucoside exchange\n",
      "ACNPLYS 0.0 N-Acetylneuraminate pyruvate-lyase\n",
      "EX_mal__D_e 0.0 D-Malate exchange\n",
      "ALLTNt2r 0.0 Allantoin transport in via proton symport\n",
      "EX_mal__L_e 0.0 L-Malate exchange\n",
      "ACt2r 0.0 Acetate reversible transport via proton symport\n",
      "ADEt2 0.0 Adenine transport in via proton symport\n",
      "ACKr 0.050384624543489735 Acetate kinase\n",
      "ACLDC 0.002021000181871325 Acetolactate decarboxylase\n",
      "ALLTAHr 0.0 Allantoate amidinohydrolase  reversible\n",
      "EX_malt_e 0.0 Maltose exchange\n",
      "AMPt6 0.0 AMP transport inout via proton symport\n",
      "ACODA_1 0.0 Acetylornithine deacetylase\n",
      "ACOAD20 0.0 Acyl CoA dehydrogenase  2 methylbutnoyl CoA \n",
      "EX_malttr_e 0.0 Maltotriose exchange\n",
      "EX_man1p_e 0.0 D Mannose 1 phosphate exchange\n",
      "ACONT 1.9715697449757554 Aconitate hydratase\n",
      "ACOAD2 0.003300227707683838 Acyl-CoA dehydrogenase (hexanoyl-CoA)\n",
      "EX_man6p_e 0.0 D-Mannose 6-phosphate exchange\n",
      "ACOAD1 0.003300227707683838 Acyl-CoA dehydrogenase (butanoyl-CoA)\n",
      "ACOADH2 -5.421010862427522e-19 Acyl CoA dehydrogenase  isobutyryl CoA \n",
      "ARABDI 0.0 L-fucose isomerase\n",
      "ARAB_Dt 0.0 D arabinose reversible transport\n",
      "ACOTA -0.022769990433398623 Acetylornithine transaminase\n",
      "ARGKr 0.0 ATPL arginine N phosphotransferase\n",
      "EX_man_e 0.0 D-Mannose exchange\n",
      "ARGPt6 0.0 L arginine phosphate transport inout via proton symport\n",
      "ACPS1 0.0 Acyl-carrier protein synthase\n",
      "EX_3ump_e 0.0 3'-UMP exchange\n",
      "EX_mbdg_e 0.0 Beta Methylglucoside exchange\n",
      "APATi 0.05038462454348949 Tetrahydrodipicolinate acetyltransferase\n",
      "EX_melib_e 0.0 Melibiose exchange\n",
      "EX_meoh_e 0.0 Methanol exchange\n",
      "EX_met__D_e 0.0 D-Methionine exchange\n",
      "APRAUR 0.0 5-amino-6-(5-phosphoribosylamino)uracil reductase\n",
      "APSR 0.02009156356383357 Adenosine 5'-phosphosulfate reductase;\n",
      "ACPpds 0.0 [acyl-carrier-protein] phosphodiesterase\n",
      "ACS 0.0 Acetyl-CoA synthetase\n",
      "EX_met_L_ala__L_e 0.0 Met L ala L exchange\n",
      "ALKP 0.0 Alkaline phosphatase\n",
      "APTA1i 0.05038462454348949 Acetyl L L diaminopimelate aminotransferase\n",
      "EX_met__L_e 0.0 L-Methionine exchange\n",
      "ALCD19_L 0.0 Alcohol dehydrogenase  L glyceraldehyde to glycerol  NADP \n",
      "ACS2 0.0 Acetyl-CoA synthase (propionate)\n",
      "ACTD2 0.002021000181871325 Acetoin dehydrogenase\n",
      "ACTNabc 0.0 Acetoin transport via ABC system\n",
      "ACTNabc1 0.0 Acetoin efflux  via ABC system\n",
      "ALCD2y 0.0 Alcohol dehydrogenase (ethanol, NADP)\n",
      "ADADir 0.0 Deoxycytidine kinase\n",
      "EX_metox__R_e 0.0 L methionine R oxide exchange\n",
      "ADNK1 0.0 Adenosine kinase\n",
      "ADCL 4.329366488132846e-05 4-aminobenzoate synthase\n",
      "ADD 0.0 Adenine deaminase\n",
      "ALLTN 0.0 Allantoinase\n",
      "ALTRH 0.0 Altronate hydrolase\n",
      "EX_metox_e 0.0 L Methionine S oxide exchange\n",
      "ARABRr 0.0 Arabinose reductase\n",
      "ARAI 0.0 L-arabinose isomerase\n",
      "ARBTpts 0.0 Arbutin transport via PEPPyr PTS\n",
      "ADCS 4.329366488132846e-05 4-amino-4-deoxychorismate synthase\n",
      "ADK1 0.18483504727784855 Adenylate kinase\n",
      "EX_mg2_e -0.01199883332353841 Mg exchange\n",
      "AMAA 0.0 N-acetylmuramoyl-L-alanine amidase\n",
      "ADK2 0.0 Adenylate kinase (Inorganic triphosphate)\n",
      "AMAOTr 0.0 Adenosylmethionine-8-amino-7-oxononanoate transaminase\n",
      "EX_mn2_e 0.0 Mn2+ exchange\n",
      "AMMQT7 3.137905955975795e-05 S adenosylmethione2 demthylmenaquinone methyltransferase  menaquinone 7 \n",
      "ANPRT 0.00640982173022183 Anthranilate phosphoribosyltransferase\n",
      "ADMDC 0.0 Adenosylmethionine decarboxylase\n",
      "EX_mnl_e 0.0 D-Mannitol exchange\n",
      "ADNt2 0.0 Adenosine transport in via proton symport\n",
      "ADPDA 0.05038462454348949 N6 acetyl LL 2 6 diaminoheptanedioate amidohydrolase\n",
      "ADPRDP 0.0 ADPribose diphosphatase\n",
      "ANS 0.00640982173022183 Anthranilate synthase\n",
      "ANTIMt1 0.0 Antimonite  transporter via uniport\n",
      "EX_mobd_e 0.0 Molybdate exchange\n",
      "AOXSr 0.0 8-amino-7-oxononanoate synthase\n",
      "ARBabc 0.0 L-arabinose transport via ABC system\n",
      "ARBt2r 0.0 L-arabinose transport via proton symport\n",
      "ARGDC 0.0 Arginine decarboxylase\n",
      "ADPT 0.0 Adenine phosphoribosyltransferase\n",
      "ADSK 0.0 Adenylyl-sulfate kinase\n",
      "ADSL2r 0.021487577815071147 Adenylosuccinate lyase\n",
      "ADSL1r 0.021561188842008316 Adenylsuccinate lyase\n",
      "ADSS 0.021561188842008316 Adenylosuccinate synthase\n",
      "AGDC 0.0 N-acetylglucosamine-6-phosphate deacetylase\n",
      "ARGN_1 0.0 Arginase\n",
      "ARGSL 0.022769990433398623 Argininosuccinate lyase\n",
      "ARGSS 0.022769990433398623 Argininosuccinate synthase\n",
      "AGMT 0.0 Agmatinase\n",
      "AGPATr_BS 0.012693183491091662 1 acylglycerol 3 phosphate O acyltransferase\n",
      "EX_mops_e 0.0 MOPS exchange\n",
      "AGPR -0.022769990433398623 N-acetyl-g-glutamyl-phosphate reductase\n",
      "AHCYSNS 0.0 S-adenosylhomocysteine nucleosidase\n",
      "ASNt2r 0.0 L asparagine reversible transport via proton symport\n",
      "EX_mso3_e 0.0 Methanesulfonate exchange\n",
      "ASPt2r 0.0 L aspartate reversible transport via proton symport\n",
      "AHMMPS_1 0.0 4 amino 5 hydroxymethyl 2 methylpyrimidine synthetase\n",
      "AHSERL3 0.0 Cysteine synthase  Selenide \n",
      "AHSERL4 0.0 Cysteine synthase  Thiosulfate \n",
      "EX_na1_e 0.0 Sodium exchange\n",
      "AICART 0.031130032511894654 Phosphoribosylaminoimidazolecarboxamide formyltransferase\n",
      "AKGDH 1.8563371087595146 2-Oxogluterate dehydrogenase\n",
      "EX_nac_e 0.0 Nicotinate exchange\n",
      "AIRC1 0.021487577815071147 Phosphoribosylaminoimidazole carboxylase  ATP dependent \n",
      "ATPM 9.0 ATP maintenance requirement\n",
      "BIOMASS_BS_10 0.1179663893223982 B subtilis biomass  demand \n",
      "EX_nh4_e -0.9449636274148077 Ammonia exchange\n",
      "BTDt6_RR 0.0 Butanediol transport inout via proton symport\n",
      "CHORt2 0.0 Chorismate transport inout via proton symport\n",
      "ALAALAr 0.012010983861638616 D-alanine-D-alanine ligase (reversible)\n",
      "AKGt2r 0.0 2 oxoglutarate reversible transport via symport\n",
      "EX_ni2_e 0.0 Ni2+ exchange\n",
      "AKP1 4.329366488132846e-05 Alkaline phosphatase  Dihydroneopterin \n",
      "ALAD_L 0.0 L-alanine dehydrogenase\n",
      "ALAR 0.04157713595029 Alanine racemase\n",
      "ALATA_L -0.08507358505485534 L-alanine transaminase\n",
      "CITRt2r 0.0 Citrulline reversible transport via proton symport\n",
      "CMPt6 0.0 CMP transport inout via proton symport\n",
      "CO2t -5.980675626954003 CO2 transporter via diffusion\n",
      "DALAt2r 0.0 D-alanine transport via proton symport\n",
      "ARSNAt1 0.0 Arsenate transporter\n",
      "ALAt2r 0.0 L alanine reversible transport via proton symport\n",
      "EX_no2_e 0.0 Nitrite exchange\n",
      "ALCD19y 0.0 Alcohol dehydrogenase  glycerol  NADP \n",
      "ARSt1 0.0 Arsenite transporter via uniport\n",
      "ARGabc 0.0 L-arginine transport via ABC system\n",
      "EX_no3_e 0.0 Nitrate exchange\n",
      "ARGt2r 0.0 L arganine reversible transport via proton symport\n",
      "ARSENBabc 0.0 Arsenobetaine transport in via ABC system\n",
      "CYSGLYt2ir 0.0 Cys Gly transport in via symport\n",
      "CYSTabc 0.0 L cystine transport via ABC system\n",
      "ARSENBt2 0.0 Arsenobetaine transport in via proton symport\n",
      "EX_o2_e -5.705899229532262 O2 exchange\n",
      "ASAD -0.13051919281019625 Aspartate-semialdehyde dehydrogenase\n",
      "ASNN 0.0 L-asparaginase\n",
      "ASNS1 0.017457492056653742 Asparagine synthase (glutamine-hydrolysing)\n",
      "CYSabc 0.0 L-cysteine transport via ABC system\n",
      "DEXTRINt2 0.0 Dextrin transport in via proton symport\n",
      "ASP1DC 0.0 Aspartate 1-decarboxylase\n",
      "EX_orn__L_e 0.0 Ornithine exchange\n",
      "ASPCT 0.014388950337599519 Aspartate carbamoyltransferase\n",
      "ASPK 0.13051919281019625 Aspartate kinase\n",
      "DHAt 0.0 Dihydroxyacetone transport via facilitated diffusion\n",
      "EX_pala_e 0.0 Palatinose exchange\n",
      "EX_4abut_e 0.0 4-Aminobutanoate exchange\n",
      "ASPO6 0.0020424700647280296 L-aspartate oxidase\n",
      "ASPO1 0.0 L-aspartate oxidase\n",
      "ASPT 0.0 L-aspartase\n",
      "ASPTA -0.24768753950882105 Aspartate transaminase\n",
      "EX_pep_e 0.0 Phosphoenolpyruvate exchange\n",
      "ATPPRT 0.009642454696823507 ATP phosphoribosyltransferase\n",
      "DADK 0.0 Deoxyadenylate kinase\n",
      "EX_phe__L_e 0.0 L-Phenylalanine exchange\n",
      "DADNt2 0.0 Deoxyadenosine transport in via proton symport\n",
      "ATPS4r 18.771540152105295 ATP synthase (four protons for one ATP)\n",
      "BETALDHx 0.0 Betaine-aldehyde dehydrogenase\n",
      "BG_CELLB 0.0 Beta glucosidase  cellobiose \n",
      "CYSS_2 0.0 Cysteine synthase\n",
      "EX_pi_e -0.1810531628025574 Phosphate exchange\n",
      "DHPPDA 0.0 Diaminohydroxyphosphoribosylaminopyrimidine deaminase\n",
      "BG_MADG 0.0 Beta glucosidase  methyl alpha D glucoside \n",
      "BG_MBDG 0.0 Beta glucosidase\n",
      "BILEt4 0.0 Bile acid transport in via sodium symport\n",
      "DDPA 0.040312890155921724 3-deoxy-D-arabino-heptulosonate 7-phosphate synthetase\n",
      "EX_pnto__R_e 0.0 (R)-Pantothenate exchange\n",
      "CRNabc 0.0 L-carnitine transport via ABC system\n",
      "BTDD_RR 0.0  R R  butanediol dehydrogenase\n",
      "EX_ppa_e 0.0 Propionate exchange\n",
      "BLACT 0.0 Beta lactamase\n",
      "CTPS1 0.006760535805677318 CTP synthase  NH3 \n",
      "BTS_1 0.0 Biotin synthase\n",
      "CPPPGO 0.0 Coproporphyrinogen oxidase (O2 required)\n",
      "EX_ppi_e 0.0 Diphosphate exchange\n",
      "CRO4t3 0.0 Chromate transport out via proton antiport\n",
      "CS 1.9715697449757554 Citrate synthase\n",
      "EX_pro__L_e 0.0 L-Proline exchange\n",
      "CTPS2 0.0 CTP synthase (glutamine)\n",
      "CYOR3m 11.395323744997317 Cytochrome c reductase  menaquinol 7 3 protons \n",
      "BUTKr 0.0 Butyrate kinase\n",
      "BUTSabc 0.0 Butanesulfonate transport via ABC system\n",
      "EX_prolb_e 0.0 Proline betaine exchange\n",
      "CA2abc1 0.0 Calcium efflux  via ABC system\n",
      "CAT 0.00823735703360444 Catalase\n",
      "CAt4 -0.0003780822777782869 Calcium transport inout via proton antiporter\n",
      "CYOO3 11.395323744997317 Cytochrome c oxidase  He   2 \n",
      "CYSTGL 0.006722904527483473 Cystathionine g lyase\n",
      "CYSTL 0.0 Cystathionine b-lyase\n",
      "CYSTS 0.006722904527483473 Cystathionine beta synthase\n",
      "DCYTD 0.0 Deoxycytidine deaminase\n",
      "CYTB_B2 0.0 Menaquinol oxidase  71 protons \n",
      "CYTB_B3 0.0 Menauinol oxidase  72 protons \n",
      "CBL2abc 0.0 Cobalamin uptake in via ABC transport\n",
      "CD2t4 0.0 Cadminum transport out via antiport\n",
      "CBPS 0.03715894077099815 Carbamoyl-phosphate synthase (glutamine-hydrolysing)\n",
      "CYTD 0.0 Cytidine deaminase\n",
      "EX_pser__D_e 0.0 D O Phosphoserine exchange\n",
      "EX_pser__L_e 0.0 O-Phospho-L-serine exchange\n",
      "DJENKabc 0.0 Djenkolate transporter via ABC system\n",
      "CYTDK1 3.137905955975795e-05 ATP:cytidine 5'-phosphotransferase\n",
      "CD2abc1 0.0 Cadmium transport out via ABC system\n",
      "CDGPT_BS 0.002453700897907429 CDPdiacylglycerolsn glycerol 3 phosphate 3 phosphatidyltransferase\n",
      "CDPDSP_BS 0.0066061178020543135 CDPdiacylglycerol serine O phosphatidyltransferase\n",
      "CDPMEK 0.00021965341691830039 4-(cytidine 5'-diphospho)-2-C-methyl-D-erythritol kinase\n",
      "CHCOAL 0.0 6-carboxyhexanoate-CoA ligase\n",
      "CYTDK2 0.0 Cytidine kinase (GTP)\n",
      "DCYTt2 0.0 Deoxycytidine transport in via proton symport\n",
      "CHOLD2 0.0 Choline dehydrogenase  FAD dependent \n",
      "DTMPt6 0.0 DTMP transport inout via proton symport\n",
      "CHORM 0.033828395701258875 Chorismate mutase\n",
      "CHORS 0.040312890155921724 Chorismate synthase\n",
      "CYTK1 0.06356453735692542 Cytidylate kinase (CMP)\n",
      "CYTK2 0.0 Cytidylate kinase (dCMP)\n",
      "CYTOM -3.137905955975795e-05 Cytosine 5 methyltransferase\n",
      "CITt10 0.0 Citrate transport in via Mg complex\n",
      "CITt11 0.0 Citrate transport in via Mn complex\n",
      "CITt12 0.0 Citrate transport in via Ni complex\n",
      "D4DGCD 0.0 5 dehydro 4 deoxyglucarate dehydratase\n",
      "Cut1 0.0 Copper export via ATPase\n",
      "DAAOP 0.0 D alanyl aminopeptidase\n",
      "DAGK_BS 0.0 Diacylglycerol kinase\n",
      "DALAOX 0.0 D amino acid oxidase\n",
      "CITt13 0.0 Citrate transport in via Co complex\n",
      "CLPNS2_BS 5.8983194661199514e-05 Cardiolipin synthase\n",
      "CITt14 0.0 Citrate transport in via Ca complex\n",
      "CITt2r 0.0 Citrate reversible transport via symport\n",
      "DAPDC 0.03837364068185088 Diaminopimelate decarboxylase\n",
      "DAPE 0.05038462454348949 Diaminopimelate epimerase\n",
      "ETHAAL 0.0 Ethanolamine ammonia-lyase\n",
      "DB4PS 0.0 3,4-Dihydroxy-2-butanone-4-phosphate synthase\n",
      "DBTS 0.0 Dethiobiotin synthase\n",
      "FOLt 0.0 Folate transport via proton simport\n",
      "FORAMD 0.0 FORAMD\n",
      "DCMPDA 0.0 DCMP deaminase\n",
      "ETOHt3 0.0 Ethanol transport out via proton antiport\n",
      "CMPDAi 0.0 CMP deaminase\n",
      "FRTT 3.137905955975795e-05 Farnesyltranstransferase\n",
      "EX_2ddglcn_e 0.0 2-Dehydro-3-deoxy-D-gluconate exchange\n",
      "DDGLCNt2r 0.0 2-dehydro-3-deoxy-D-gluconate transport via proton symport, reversible\n",
      "DDGLK 0.0 2-dehydro-3-deoxygluconokinase\n",
      "EX_2hxmp_e 0.0 2  Hydroxymethyl phenol exchange\n",
      "DGK1 0.0020523792414310835 Deoxyguanylate kinase (dGMP:ATP)\n",
      "DGNSK 0.0020523792414310835 Deoxyguanosine kinase\n",
      "G1Pt6_2 0.0 Glucose 1 phosphate transport via phosphate antiport\n",
      "DHAD1 0.08543066931533524 Dihydroxy-acid dehydratase (2,3-dihydroxy-3-methylbutanoate)\n",
      "G3POA_BS 0.012693183491091662 Glycerol 3 phosphate O acyltransferase\n",
      "EX_2pg_e 0.0 D Glycerate 2 phosphate exchange\n",
      "DHAD2 0.012947047160913506 Dihydroxy-acid dehydratase (2,3-dihydroxy-3-methylpentanoate)\n",
      "DHBD 0.0 2,3-dihydro-2,3-dihydroxybenzoate dehydrogenase\n",
      "DHBS 0.0 2,3-dihydroxybenzoate adenylate synthase\n",
      "EX_2pglyc_e 0.0 2 Phosphoglycolate exchange\n",
      "DHDPRy 0.05038462454348949 Dihydrodipicolinate reductase (NADPH)\n",
      "DHDPS 0.05038462454348949 Dihydrodipicolinate synthase\n",
      "G5SADs 0.018950356713528693 L-glutamate 5-semialdehyde dehydratase (spontaneous)\n",
      "G6Pt6_2 0.0 Glucose-6-phosphate transport via phosphate antiport\n",
      "GALTpts 0.0 Galactitol transport via PEP:Pyr PTS\n",
      "FOLR2 0.0 Folate reductase\n",
      "DHFR 0.0027759850735346826 Dihydrofolate reductase\n",
      "DHFS 4.329366488132846e-05 Dihydrofolate synthase\n"
     ]
    },
    {
     "name": "stdout",
     "output_type": "stream",
     "text": [
      "DHNAOT7 3.137905955975795e-05 1 4 dihydroxy 2 naphthoate octaprenyltransferase\n",
      "EX_3amba_e 0.0 3 aminobutanoic acid exchange\n",
      "EX_3amp_e 0.0 3'-AMP exchange\n",
      "GAM6Pt 0.0 D glucosamine 6 phosphate reversible uniport\n",
      "EX_3cmp_e 0.0 3'-cmp exchange\n",
      "GGTT 3.137905955975795e-05 Geranylgeranyltranstransferase\n",
      "GCALDD 4.329366488132846e-05 Glycolaldehyde dehydrogenase\n",
      "EX_3gmp_e 0.0 3'-GMP exchange\n",
      "GAPD 4.232253109449068 Glyceraldehyde-3-phosphate dehydrogenase\n",
      "G1Dx 0.0 Glucose 1 dehydrogenase  NAD \n",
      "GALt2 0.0 D galactose transport in via proton symport\n",
      "DHNPA_1 4.329366488132846e-05 Dihydroneopterin aldolase\n",
      "DHORTS -0.014388950337599519 Dihydroorotase\n",
      "DHORDi 0.014388950337599519 Dihydoorotic acid dehydrogenase  irreversible \n",
      "EX_3pg_e 0.0 3 Phospho D glycerate exchange\n",
      "GK1 0.007457127334626088 Guanylate kinase (GMP:ATP)\n",
      "ETHSabc 0.0 Ethanesulfonate transport via ABC system\n",
      "GBBTNabc 0.0 Gamma butyrobetaine transport in via ABC system\n",
      "GK2 0.0 Guanylate kinase  GMPdATP \n",
      "GLCRAL_1 0.0 5 dehydro 4 deoxyglucarate aldolase\n",
      "GLU_Dt2 0.0 D glutamate transport in via proton symport\n",
      "DINSK 0.0 Deoxyinosine kinase\n",
      "GLXt2 0.0 Glyoxylate transport in via proton symport\n",
      "GLYCOGENt 0.0 Glycogen transport in\n",
      "FE3t 0.00040698404316227453 Ferric iron uptake, plasma membrane\n",
      "DHQTi 0.040312890155921724 3-dehydroquinate dehydratase, irreversible\n",
      "FEDCabc 0.0 Iron  III  dicitrate transport via ABC system\n",
      "GLYt2r 0.0 Glycine reversible transport via proton symport\n",
      "FERXAabc 0.0 Ferroxamine transport via ABC system\n",
      "GMPt6 0.0 GMP transport inout via proton symport\n",
      "DHQS 0.040312890155921724 3-dehydroquinate synthase\n",
      "H2Ot -7.869819466992122 H2O transport via diffusion\n",
      "FFSD 0.0 Beta-fructofuranosidase\n",
      "FGLU_1 0.0 Formimidoylglutamase\n",
      "FLVR_1 0.0 Flavin reductase\n",
      "FMETDF 0.0 Formylmethionine deformylase\n",
      "FMNRy 0.0 FMN reductase  NADPH dependent \n",
      "HCO3E 0.4543378752313092 HCO3 equilibration reaction\n",
      "HEMECS 0.0 Heme C synthase\n",
      "HEMEDS 0.0 Heme D synthase\n",
      "FMETTRS_1 0.0 Methionyl tRNA formyltransferase\n",
      "FMNAT 0.0 FMN adenylyltransferase\n",
      "FORt2 0.0 Formate transport in via proton symport\n",
      "GSNt2 0.0 Guanosine transport in via proton symport\n",
      "DIPEPabc1 0.0 Dipeptide transport via ABC system  ala asp \n",
      "GLYBt2r 0.0 Glycine betaine transport via proton symport, reversible\n",
      "GLYO1 0.0 Glycine oxidase\n",
      "FTHFD 0.0008895845418838699 Formyltetrahydrofolate deformylase\n",
      "HEX7 0.0 Hexokinase (D-fructose:ATP)\n",
      "FUM 1.9221558658499922 Fumarase\n",
      "DKI 0.0 5 Dehydro 4 deoxy D glucuronate ketol isomerase\n",
      "FUMt2r 0.0 Fumarate reversible transport via symport\n",
      "GTPCII 0.0 GTP cyclohydrolase II\n",
      "G1PACT 0.03857194218230186 Glucosamine-1-phosphate N-acetyltransferase\n",
      "GRTT 3.137905955975795e-05 Geranyltranstransferase\n",
      "G1PPDM 0.0 Glucose 1 phosphate phosphodismutase\n",
      "DKII 0.0 2 dehydro 3 deoxy D gluconate 5 dehydrogenase\n",
      "G3PCT 0.05437660715815956 Glycerol-3-phosphate cytidylyltransferase\n",
      "GLCRt2r 0.0 D-glucarate transport via proton symport, reversible\n",
      "GLCURt2r 0.0 D-glucuronate transport via proton symport, reversible\n",
      "G1SAT 0.0 Glutamate-1-semialdehyde aminotransferase\n",
      "DKMD2K 0.0 1 2 dihydroxy 3 keto 5 methylthiopentene dioxygenase  2 keto 4 methylthiobutyrate \n",
      "G3PD1ir 0.06946450835249746 Glycerol 3 phosphate dehydrogenase  NAD \n",
      "G3PD4 0.0 Glycerol 3 phosphate dehydrogenase  menaquinone 7 \n",
      "GLCP 0.0 Glycogen phosphorylase\n",
      "GLCRD_1 0.0 Glucarate dehydratase\n",
      "GLCS1 0.0 Glycogen synthase (ADPGlc)\n",
      "G5SD 0.018950356713528693 Glutamate-5-semialdehyde dehydrogenase\n",
      "G6PDH2r 0.0 Glucose 6-phosphate dehydrogenase\n",
      "G6PDA 0.0 Glucosamine-6-phosphate deaminase\n",
      "G6PI 0.0 Glucose 6 phosphate isomerase\n",
      "GLCt2 0.0 D-glucose transport in via proton symport\n",
      "GALCTD_1 0.0 Galactarate dehydratase\n",
      "GLNS 0.19253872436615554 Glutamine synthetase\n",
      "GALCTRt2 0.0 Galactarate transport in via proton symport\n",
      "GLGC 0.0 Glucose-1-phosphate adenylyltransferase\n",
      "DKMD3M 0.0 1 2 dihydroxy 3 keto 5 methylthiopentene dioxygenase  3 methylthiopropionate \n",
      "GLNabc 0.0 L-glutamine transport via ABC system\n",
      "GLTPD 0.0 Galactitol-1-phosphate dehydrogenase\n",
      "GLUPRT 0.021487577815071147 Glutamine phosphoribosyldiphosphate amidotransferase\n",
      "GALKr 0.0 Galactokinase\n",
      "GALS1 0.0 A galactosidase  galactomannan \n",
      "GALS2 0.0 A galactosidase  galactose oligosaccharides \n",
      "GALS3 0.0 A-galactosidase (melibiose)\n",
      "GALS4 0.0 A galactosidase  stachyose \n",
      "GLU5K 0.018950356713528693 Glutamate 5-kinase\n",
      "GALT 0.0 Galactose 1 phosphate uridylyltransferase\n",
      "GLUDxi 0.0 Glutamate dehydrogenase  NAD \n",
      "GALUi 0.029682113049355294 UTP-glucose-1-phosphate uridylyltransferase (irreversible)\n",
      "DM1PE 0.0 2 3 diketo 5 methylthiopentyl 1 phosphate enolase\n",
      "GALURt2r 0.0 D-galacturonate transport via proton symport, reversible\n",
      "GLUN 0.0 Glutaminase\n",
      "GLUTRR 0.0 Glutamyl-tRNA reductase\n",
      "GAMpts 0.0 D-glucosamine transport via PEP:Pyr PTS\n",
      "DMATT 3.137905955975795e-05 Dimethylallyltranstransferase\n",
      "GAPDi_nadp 1.1764333411770378 Glyceraldehyde-3-phosphate dehydrogenase (NAD(P)+) (phosphorylating)\n",
      "GLUR -0.012010983861638616 Glutamate racemase\n",
      "GLUSy 0.0 Glutamate synthase (NADPH)\n",
      "GLUTRS 0.0 Glutamyl-tRNA synthetase\n",
      "GLUt4 0.0 Na+/glutamate symport\n",
      "GLUt2r 0.0 L glutamate transport via proton symport  reversible\n",
      "GLXCBL 2.164683244066422e-05 Glyoxalate carboligase\n",
      "GARFT 0.021487577815071147 Phosphoribosylglycinamide formyltransferase\n",
      "GART 0.0 GAR transformylase-T\n",
      "GBEZY 0.0 1 4 alpha glucan branching enzyme\n",
      "GF6PTA 0.03857194218230186 Glutamine-fructose-6-phosphate transaminase\n",
      "GGTAe2 0.0 Gamma glutamyltransferase\n",
      "GLY3Pt2 0.0 Glycerol 3 phosphate transport in via proton symport\n",
      "DMPPS 0.0 1-hydroxy-2-methyl-2-(E)-butenyl 4-diphosphate reductase (dmpp)\n",
      "GLYAT 0.0 Glycine C-acetyltransferase\n",
      "GLYCK 2.164683244066422e-05 Glycerate kinase\n",
      "GHMT2r 0.06965183897873445 Glycine hydroxymethyltransferase, reversible\n",
      "GLCNt2ir 0.0 D gluconate transport via proton symport\n",
      "DPCOAK 0.0 Dephospho-CoA kinase\n",
      "GLYCTO1 4.329366488132845e-05 Glycolate oxidase\n",
      "HIBHr -9.76680237544791e-19 3 hydroxyisobutyryl CoA hydrolase\n",
      "GLYCLTt2r 0.0 Glycolate transport via proton symport, reversible\n",
      "HQNt6 0.0 Hydroquinone transport inout via proton symport\n",
      "DPR 0.0 2-dehydropantoate 2-reductase\n",
      "ISOMS 0.0 Isomaltulose synthase\n",
      "GLYCt 0.0 Glycerol transport via channel\n",
      "GLYK 5.898319466292975e-05 Glycerol kinase\n",
      "DRBK 0.0 Deoxyribokinase\n",
      "GMPR 0.0 GMP reductase\n",
      "GMPS2 0.009568843669886338 GMP synthase\n",
      "GNKr 0.0 Gluconokinase\n",
      "GPDDA4 0.0 Glycerophosphodiester phosphodiesterase (Glycerophosphoglycerol)\n",
      "GPDDA1 0.0 Glycerophosphodiester phosphodiesterase (Glycerophosphocholine)\n",
      "IMPC -0.031130032511894654 IMP cyclohydrolase\n",
      "HEXSabc 0.0 Hexanesulfonate transport via ABC system\n",
      "ICITt10 0.0 Isocitrate transport in via Mg complex\n",
      "ICITt2 0.0 Isocitrate transport inout via proton symport\n",
      "DRIBabc 0.0 Deoxyribose transport via ABC system\n",
      "DRPA -0.002021000181871325 Deoxyribose-phosphate aldolase\n",
      "IPDPS 0.00021965341691830039 1-hydroxy-2-methyl-2-(E)-butenyl 4-diphosphate reductase (ipdp)\n",
      "IPDDI 3.137905955975795e-05 Isopentenyl-diphosphate D-isomerase\n",
      "GTHPe 0.0 Glutathione peroxidase\n",
      "RAFH 0.0 Raffinose hydrolyzing enzyme\n",
      "DTMPK 0.002701312349093596 DTMP kinase\n",
      "HXPRT 0.0 Hypoxanthine phosphoribosyltransferase (Hypoxanthine)\n",
      "HETZK 0.0 Hydroxyethylthiazole kinase\n",
      "GTPCI 4.329366488132846e-05 GTP cyclohydrolase I\n",
      "GTPDPK 0.0 GTP diphosphokinase\n",
      "DURIK1 0.0 Deoxyuridine kinase (ATP:Deoxyuridine)\n",
      "GUAD 0.0 Guanine deaminase\n",
      "GUAPRT -0.0020523792414310835 Guanine phosphoribosyltransferase\n",
      "HXANt2r 0.0 Hypoxanthine reversible transport via proton symport\n",
      "HEMEOS_1 0.0 Heme O synthase\n",
      "GUI1 0.0 Glucuronate isomerase (D-glucuronate)\n",
      "DURIPP 0.0 Deoxyuridine phosphorylase\n",
      "GUAt2r 0.0 Guanine reversible transport via proton symport\n",
      "HEX1 0.0 Hexokinase (D-glucose:ATP)\n",
      "HGt 0.0 Mercury transport\n",
      "GUI2 0.0 Glucuronate isomerase (D-galacturonate)\n",
      "DUTPDP 0.0 DUTP diphosphatase\n",
      "HACD2 0.003300227707683838 3-hydroxyacyl-CoA dehydrogenase (3-oxohexanoyl-CoA)\n",
      "HACD1_1 0.003300227707683838 3 hydroxyacyl CoA dehydrogenase  acetoacetyl CoA \n",
      "HEXTT 3.137905955975795e-05 Trans-hexaprenyltranstransferase\n",
      "HIBD 0.0 3 hydroxyisobutyrate dehydrogenase\n",
      "HEMEAS 0.0 Heme A synthase\n",
      "DXPRIi 0.00021965341691830039 1-deoxy-D-xylulose reductoisomerase\n",
      "HISDr 0.0 Histidase r\n",
      "HISTD 0.009642454696823507 Histidinol dehydrogenase\n",
      "LAAL17 0.0 L amino acid ligase  Ala Ile \n",
      "DXPS 0.00021965341691830039 1-deoxy-D-xylulose 5-phosphate synthase\n",
      "LAAL18 0.0 L amino acid ligase  Ser Ile \n",
      "LAAL19 0.0 L amino acid ligase  Gly Met \n",
      "HISTP 0.009642454696823507 Histidinol-phosphatase\n",
      "HKM1PP 0.0 2 hydroxy 3 keto 5 methylthiopentenyl 1 phosphate phophatase\n",
      "LAAL2 0.0 L amino acid ligase  L alanylglycine \n",
      "Kt2r 0.0 Potassium reversible transport  via proton symport\n",
      "LAAL20 0.0 L amino acid ligase  Ala Met \n",
      "LAAL21 0.0 L amino acid ligase  Ser Met \n",
      "LAAL22 0.0 L amino acid ligase  Thr Met \n",
      "HISt2r 0.0 L histidine reversible transport via proton symport\n",
      "HMBS 0.0 Hydroxymethylbilane synthase\n",
      "HMGCOAS 0.0 Hydroxymethylglutaryl CoA synthase\n",
      "LAAL23 0.0 L amino acid ligase  met met \n",
      "ECOAH1_1 0.003300227707683838 3 hydroxyacyl CoA dehydratase  3 hydroxybutanoyl CoA \n",
      "LAAL24 0.0 L amino acid ligase  gly phe \n",
      "Kt3r 0.0 Potassium transport out via proton antiport\n",
      "HMGL 0.0 Hydroxymethylglutaryl-CoA lyase\n",
      "HOXPRx -2.164683244066422e-05 2 hydroxy 3 oxopropionate reductase  NAD \n",
      "HMPK1 0.0 Hydroxymethylpyrimidine kinase (ATP)\n",
      "ECOAH2 0.003300227707683838 3-hydroxyacyl-CoA dehydratase (3-hydroxyhexanoyl-CoA)\n",
      "HP5CD_1 0.0 3 hydroxy 1 pyrroline 5 carboxylate dehydrogenase\n",
      "Kt1 0.08332107637508172 Potassium transport via uniport (facilitated diffusion)\n",
      "HPPK 4.329366488132846e-05 2-amino-4-hydroxy-6-hydroxymethyldihydropteridine diphosphokinase\n",
      "LAAL25 0.0 L amino acid ligase  Ala phe \n",
      "ECOAH2c -1.0842021724855044e-18 Enoyl CoA hydratase  bacterial\n",
      "LAAF 0.0 Alpha N arabinofuranosidase\n",
      "LAAL1 0.0 L amino acid ligase  L glycine L glycine \n",
      "HSDy -0.08013456826670674 Homoserine dehydrogenase (NADPH)\n",
      "HSK 0.021979143759381266 Homoserine kinase\n",
      "HSST 0.05815542450732549 Homoserine O-succinyltransferase\n",
      "LAAL10 0.0 L amino acid ligase  Thr Thr \n",
      "LAAL11 0.0 L amino acid ligase  Ala Val \n",
      "HXAD 0.0 Hexosaminidase\n",
      "ECOAH3 0.003300227707683838 3-hydroxyacyl-CoA dehydratase (3-hydroxyoctanoyl-CoA)\n",
      "HSTPTr 0.009642454696823507 Histidinol phosphate transaminase\n",
      "LAAL12 0.0 L amino acid ligase  Ser Val \n",
      "LAAL13 0.0 L amino acid ligase  Gly Leu \n",
      "ECOAH4 0.003300227707683838 3-hydroxyacyl-CoA dehydratase (3-hydroxydecanoyl-CoA)\n",
      "LAAL14 0.0 L amino acid ligase  ser leu \n",
      "LAAL15 0.0 L amino acid ligase  Ala Leu \n",
      "LAAL16 0.0 L amino acid ligase  Thr Leu \n",
      "LAAL26 0.0 L amino acid  ser phe \n",
      "LAAL27 0.0 L amino acid ligase  Thr Phe \n",
      "ICDHyr 1.9715697449757554 Isocitrate dehydrogenase (NADP)\n",
      "ICHORT 0.0 Isochorismatase\n",
      "IG3PS_1 0.009642454696823507 Imidazole glycerol 3 phosphate synthase\n",
      "IGPDH_1 0.009642454696823507 Imidazoleglycerol phosphate dehydratase\n",
      "IGPS 0.00640982173022183 Indole-3-glycerol-phosphate synthase\n",
      "ILEDHr -0.03183971831006189 Isoleucine dehydrogenase\n",
      "IMPD 0.009568843669886338 IMP dehydrogenase\n",
      "ILETA 0.0 Isoleucine transaminase\n",
      "ILEt2r 0.0 L isoleucine reversible transport via proton symport\n",
      "LAAL28 0.0 L amino acid ligase  met phe \n",
      "LAAL29 0.0 L amino acid ligase  gly tyr \n",
      "ECOAH5_1 0.003300227707683838 3 hydroxyacyl CoA dehydratase  3 hydroxydodecanoyl CoA \n",
      "LAAL3 0.0 L amino acid ligase  L serylglycine \n",
      "LAAL30 0.0 L amino acid  Ala Tyr \n",
      "INS2D 0.0 Inositol 2-dehydrogenase\n",
      "ECOAH6 0.003300227707683838 3-hydroxyacyl-CoA dehydratase (3-hydroxytetradecanoyl-CoA)\n",
      "INSTt2 0.0 Inositol transport in via proton symport\n",
      "IPDPUPT -4.956352788505163e-19 Di trans poly cis Decaprenyl diphosphateisopentenyl diphosphate undecaprenylcistransferase\n",
      "LANTHabc 0.0 Lanthionine transport via ABC system\n",
      "LIPO1S24_BS 8.25764725256792e-07 Lipoteichoic acid synthesis  n24   linked  glucose substituted\n",
      "IPMD 0.04772318483398774 3-isopropylmalate dehydrogenase\n",
      "ECOAH7 0.002538636698218338 3-hydroxyacyl-CoA dehydratase (3-hydroxyhexadecanoyl-CoA)\n",
      "IPPS 0.04772318483398774 2-isopropylmalate synthase\n",
      "IZPN_1 0.0 Imidazolonepropionase\n",
      "LIPO2S24_BS 7.077983359343932e-07 Lipoteichoic acid synthesis  n24   linked  N acetylglucosamine substituted\n",
      "LIPO4S24_BS 1.7694958398359574e-06 Lipoteichoic acid synthesis  n24   linked  unsubstituted\n",
      "LIPTabc 0.0 Lipoic acid transport via ABC system\n",
      "IPPMIa -0.04772318483398774 3-isopropylmalate dehydratase\n",
      "IPPMIb -0.04772318483398774 2-isopropylmalate hydratase\n",
      "KARA1 -0.08543066931533524 Ketol-acid reductoisomerase (2,3-dihydroxy-3-methylbutanoate)\n",
      "KARA2 0.0447867654709754 Ketol-acid reductoisomerase (2-Acetolactate)\n",
      "LYSLG_BS 0.00025952605650927745 Lysylphosphatidylglycerol synthesis\n",
      "MALTTRabc 0.0 Maltotriose transport via ABC system\n",
      "MAL_Dt2 0.0 D malate transport in via proton symport\n",
      "MAN1Pt6 0.0 MAN1P transport inout via proton symport\n",
      "MAN6Pt6 0.0 MAN6P transport inout via proton symport\n",
      "KAS1 0.0002538636698218334 B-ketoacyl synthetase (Iso-C14:0)\n",
      "LAAL31 0.0 L amino acid ligase  Ser Tyr \n",
      "ECOAH9ir 1.734723475976807e-18 2 Methylprop 2 enoyl CoA  2 Methylbut 2 enoyl CoA \n",
      "EDA 0.0 2-dehydro-3-deoxy-phosphogluconate aldolase\n",
      "MANAO 0.0 Mannonate oxidoreductase\n",
      "METt3 0.0 L methionine transport out via proton antiport\n",
      "ENO 2.9409448651314127 Enolase\n",
      "MELIBt2 0.0 Melibiose transport in via symport\n",
      "NACt 0.0 Nicotinic acid transport\n",
      "MALt2r 0.0 L malate reversible transport via proton symport\n",
      "ETHAt6 0.0 Ethanolamine transport inout via proton symport\n",
      "MECDPS 0.00021965341691830039 2-C-methyl-D-erythritol 2,4-cyclodiphosphate synthase\n",
      "NMNHYD 0.0 Nicotinamide ribonucleotide phosphohydrolase\n",
      "LCYSTabc 0.0 Cysteate transport via ABC system\n",
      "MANt2 0.0 D mannose transport in via proton symport\n",
      "LLEUDr -0.040868865748798236 L leucine dehydrogenase\n",
      "L_LACt2r 0.0 L lactate reversible transport via proton symport\n",
      "MTAN 0.0 Methylthioadenosine nucleosidase\n",
      "MOPSabc 0.0 MOPS transport via ABC system\n",
      "MLTG1 0.0 Maltodextrin glucosidase (maltotriose)\n",
      "NAPRT 0.0 NAPRTase (rev)\n",
      "MLTG2 0.0 Maltodextrin glucosidase (maltotetraose)\n",
      "LAAL32 0.0 L amino acid ligase  Met Tyr \n",
      "LEUTA 0.0 Leucine transaminase\n",
      "METS 0.013368659036350098 Methionine synthase\n",
      "LEUt2r 0.0 L leucine reversible transport via proton symport\n",
      "O2t 5.705899229532262 O2 transport  diffusion \n",
      "LAAL33 0.0 L amino acid ligase  ala trp \n",
      "LACZ 0.0 B-galactosidase\n",
      "LIPO3S24_BS 2.1233950078031893e-06 Lipoteichoic acid synthesis  n24   unliked  D alanine substituted\n",
      "METSR_R1 0.0 L methionine R oxide reductase  trdrd \n",
      "METSR_R2 0.0 L methionine R oxide  H2O2 \n",
      "METSabc 0.0 L methionine S oxide transport via ABC system\n",
      "METDabc 0.0 D-methionine transport via ABC system\n",
      "METabc 0.0 L-methionine transport via ABC system\n",
      "METSR_S1 0.0 L methionine S oxide reductase  trdrd \n",
      "METSR_S2 0.0 L methionine S oxide reductase  H2O2 \n",
      "METTRS 0.0 Methionyl-tRNA synthetase\n",
      "MGSA 0.0 Methylglyoxal synthase\n",
      "LYSAM 0.0 Lysine 2,3-aminomutase\n",
      "OMCDC 0.04772318483398774 2-Oxo-4-methyl-3-carboxypentanoate decarboxylation\n",
      "LCTSabc 0.0 Lactose transport via ABC system (import)\n",
      "MGt5 -0.01199883332353841 Magnesium transport in/out via permease (no H+)\n",
      "PALAt2 0.0 Palatinose transport in via proton symport\n",
      "MMSAD2 0.0 Methylmalonate-semialdehyde dehydrogenase (propanol)\n",
      "MI1PP 0.0 Myo-inositol 1-phosphatase\n",
      "LDH2 0.0 L lactate dehydrogenase  2 Hydroxybutanoic acid \n",
      "LDH_L 0.0 L-lactate dehydrogenase\n",
      "PAP_BS 0.00363336479112992 Phosphatidic acid phosphatase\n",
      "LYSDC 0.0 Lysine decarboxylase\n",
      "MCITL2 0.0 Methylisocitrate lyase\n",
      "PEPt6 0.0 Phosphoenolpyruvate transport in via proton symport\n",
      "MMSAD3 0.0 Methylmalonate-semialdehyde dehydrogenase (malonic semialdehyde)\n",
      "PGL 0.0 6-phosphogluconolactonase\n",
      "MMSDHir -1.734723475976807e-18 Methylmalonate semialdehyde dehydrogenase  acylating \n",
      "MMSAD1 0.0 Methylmalonate semialdehyde dehydrogenase\n",
      "MNNH 0.0 D-mannonate hydrolyase\n",
      "LYSt3r 0.0 L lysine transport out via proton antiport reversible\n",
      "MAN6PI 0.0 Mannose-6-phosphate isomerase\n",
      "M1PD 0.0 Mannitol-1-phosphate 5-dehydrogenase\n",
      "MAL6PG 0.0 Maltose 6  phosphate glucosidase\n",
      "MALT 0.0 Alpha glucosidase\n",
      "MNabc 0.0 Manganese transport via ABC system\n",
      "MNt2 0.0 Manganese transport in via proton symport\n",
      "MOHMT 0.0 3-methyl-2-oxobutanoate hydroxymethyltransferase\n",
      "MPL 0.0 Maltose phosphorylase\n",
      "MOBDabc 0.0 Molybdate transport via ABC system\n",
      "MTHFC 0.05355048853373099 Methenyltetrahydrofolate cyclohydrolase\n",
      "MALTATr 0.0 Maltose O-acetyltransferase\n",
      "MCA 0.0 Methyl cis aconitase\n",
      "MTHFD 0.05355048853373099 Methylenetetrahydrofolate dehydrogenase (NADP)\n",
      "PGPPH_BS 0.0024537008979058847 Phosphatidylglycerophosphate phosphohydrolase\n",
      "MTHFR3 0.013368659036350095 5 10 methylenetetrahydrofolatereductase  NADPH \n",
      "MALTabc 0.0 Maltose transport via ABC system\n",
      "MALTpts 0.0 Maltose transport via PEP:Pyr PTS\n",
      "MALt10 0.0 Malate HNa lactate antiporter\n",
      "MCITS 0.0 2-methylcitrate synthase\n",
      "OXGDC 0.0 2 oxoglutarate decarboxylase\n",
      "MALt4 0.0 Namalate symporter\n",
      "MCSNAH -3.137905955975795e-05 5-Methylcytosine aminohydrolase\n",
      "MTRI 0.0 5-methylthioribose-1-phosphate isomerase\n",
      "MTRK 0.0 5-methylthioribose kinase\n",
      "NADK 0.00013566134772075703 NAD kinase\n",
      "NADK1 0.0 NAD kinase  GTP \n",
      "NADH4 9.538986636237809 NADH dehydrogenase  Menaquinone 7  no proton \n",
      "MDH 1.9221558658499922 Malate dehydrogenase\n",
      "NADK2 0.0 NAD kinase  dATP \n",
      "ORNTAC_1 0.022769990433398623 Ornithine transacetylase\n",
      "NADK3 0.0 NAD kinase  dGTP \n",
      "MDRPD 0.0 5-Methylthio-5-deoxy-D-ribulose 1-phosphate dehydratase\n",
      "MALDDH 0.0 Malate decarboxylating oxidoreductase (decarboxylating)\n",
      "ME2 0.0 Malic enzyme (NADP)\n",
      "NADK4 0.0 NAD kinase  dCTP \n",
      "BGLA1 0.0 6-phospho-beta-glucosidase\n",
      "NADK5 0.0 NAD kinase  dTTP \n",
      "NADS1 0.0020424700647280296 NAD synthase (nh3)\n",
      "NAt3_1 0.0 Sodium proton antiporter  HNA is 11 \n",
      "NAabcO 0.0 Sodium transport out via ABC system\n",
      "MECDPDH2 0.00021965341691830039 2C-methyl-D-erythritol 2,4 cyclodiphosphate dehydratase\n",
      "MEPCT 0.00021965341691830039 2-C-methyl-D-erythritol 4-phosphate cytidylyltransferase\n",
      "METAT 0.0 Methionine adenosyltransferase\n",
      "NDPK7 0.0020502558464232804 Nucleoside-diphosphate kinase (ATP:dCDP)\n",
      "PENCAC 0.0 Penicillin acylase\n",
      "NDPK3 0.06148467194678227 Nucleoside-diphosphate kinase (ATP:CDP)\n",
      "NDPK4 0.002701312349093596 Nucleoside-diphosphate kinase (ATP:dTDP)\n",
      "PAPSR 0.0 Phosphoadenylyl-sulfate reductase (thioredoxin)\n",
      "NDPK5 0.0020523792414310835 Nucleoside-diphosphate kinase (ATP:dGDP)\n",
      "PMDPHT 0.0 Pyrimidine phosphatase\n",
      "ORNt2 0.0 Ornithine transport in via proton symport\n",
      "PPAt6 0.0 Propionate transport inout via proton symport\n",
      "PPIabc 0.0 Diphosphate transport in via ABC system\n",
      "NDPK6 0.0 Nucleoside-diphosphate kinase (ATP:dUDP)\n",
      "NDPK1 0.02899708222655637 Nucleoside-diphosphate kinase (ATP:GDP)\n",
      "NDPK2 0.07991031416060332 Nucleoside-diphosphate kinase (ATP:UDP)\n",
      "PPTGS_BS 0.012010983861638616 Peptidoglycan subunit synthesis\n",
      "PGMT_B 0.0 B phosphoglucomutase\n",
      "PPTT 3.137905955975795e-05 Trans pentaprenyltranstransferase\n",
      "PSER_Dt6 0.0 D O Phosphoserine transport inout via proton symport\n",
      "PSER_Lt6 0.0 O Phospho L serine transport in via proton symport\n",
      "RAFFINt2 0.0 Raffinose transport in via proton symport\n",
      "PGI 1.6703178869506379 Glucose-6-phosphate isomerase\n",
      "RHCYS 0.0 5 deoxyribos 5 ylhomocysteinase\n",
      "P5CD 0.0 1-pyrroline-5-carboxylate dehydrogenase\n",
      "RIBFLVt2 0.0 Riboflavin transport in via proton symport\n",
      "NDPK9 0.0 Nucleoside diphosphate kinase  ATPIDP \n",
      "RMNt 0.0 L-rhamnose transport via proton symport\n",
      "PYRt2 0.0 Pyruvate transport in via proton symport\n",
      "PYNP1 3.137905955975795e-05 Pyrimidine-nucleoside phosphorylase (cytosine)\n",
      "PHETA1 -0.02075488857099342 Phenylalanine transaminase\n",
      "NDPK8 0.0027111035594073545 Nucleoside-diphosphate kinase (ATP:dADP)\n",
      "PYNP2r 0.0 Pyrimidine-nucleoside phosphorylase (uracil)\n",
      "RMPA 0.0 Rhamnulose-1-phosphate aldolase\n",
      "SALADC2 0.0 Sulfinoalanine decarboxylase\n",
      "NH4t 0.9449636274148077 Ammonia reversible transport\n",
      "DSERt2 0.0 D-serine transport via proton symport\n",
      "SERt2r 0.0 L serine reversible transport via proton symport\n",
      "PTAr -0.050384624543489735 Phosphotransacetylase\n",
      "PMPK 0.0 Phosphomethylpyrimidine kinase\n",
      "SORD_D 0.0 D sorbitol dehydrogenase\n",
      "NMNAT 0.0 Nicotinamide-nucleotide adenylyltransferase\n",
      "SRB_Lt 0.0 L sorbose reversible transport\n",
      "PTA2 0.0 Phosphate acetyltransferase\n",
      "PHYT3 0.0 3 phytase\n",
      "NNATr 0.0020424700647280296 Nicotinate-nucleotide adenylyltransferase\n",
      "PIabc 0.0 Phosphate transport via ABC system\n",
      "SO4t2 0.02009156356383357 Sulfate transport in via proton symport\n",
      "NNAM 0.0 Nicotinamidase\n",
      "SARCOX 0.0 Sarcosine oxidase\n",
      "PIt2r 0.1810531628025574 Phosphate reversible transport via symport\n",
      "PIt7 0.0 Phosphate transport in/out via three Na+ symporter\n",
      "SUCR 0.0 Sucrose hydrolyzing enzyme\n",
      "NNDPR 0.0020424700647280296 Nicotinate-nucleotide diphosphorylase (carboxylating)\n",
      "PMANM 0.0 Phosphomannomutase\n",
      "SALCpts 0.0 Salicin transport via PEP:Pyr PTS\n",
      "NO2t2r 0.0 Nitrite transport in via proton symport, reversible\n",
      "NPHS 3.137905955975795e-05 Naphthoate synthase\n",
      "RBK 0.0 Ribokinase\n",
      "NO2t3 0.0 Nitrite transport out via proton antiport\n",
      "PNTEH 0.0 Hydrolase Class   RXN R02973 \n",
      "NO3t2 0.0 Nitrate transport in via proton symport\n",
      "PNTK 0.0 Pantothenate kinase\n",
      "RBK_Dr 0.0 D-ribulokinase (D-ribulose)\n",
      "RIBabc 0.0 D-ribose transport via ABC system\n",
      "NTR3B 0.0 Nitrate reductase\n",
      "SUCCt2r 0.0 Succinate transport via proton symport\n",
      "Q23DO 0.0 Quercetin 2 3 dioxygenase\n",
      "PNP 0.0 Purine nucleoside phosphorylase\n",
      "QULNS 0.0020424700647280296 Quinolinate synthase\n",
      "RBFK 0.0 Riboflavin kinase\n",
      "APNPT 0.0 ATP:pantetheine 4'-phosphotransferase\n",
      "PNTOt2 0.0 Pantothenate reversible transport via proton symport\n",
      "PPA 0.3075311810137445 Inorganic diphosphatase\n",
      "PPBNGS 0.0 Porphobilinogen synthase\n",
      "PPNCL 0.0 Phosphopantothenate-cysteine ligase\n",
      "RBK_L1 0.0 L-ribulokinase (L-ribulose)\n",
      "RBFSa 0.0 Riboflavin synthase\n",
      "PPCDC 0.0 Phosphopantothenoylcysteine decarboxylase\n",
      "PPCK 0.0 Phosphoenolpyruvate carboxykinase\n",
      "OCBT_1 0.022769990433398623 Ornithine carbamoyltransferase\n",
      "PPM -3.137905955975795e-05 Phosphopentomutase\n",
      "PPCOAC 0.0 Propionyl-CoA carboxylase\n",
      "RBFSb 0.0 Riboflavin synthase\n",
      "RBP4E 0.0 L-ribulose-phosphate 4-epimerase\n",
      "RMI 0.0 L-rhamnose isomerase\n",
      "RMK 0.0 Rhamnulokinase\n",
      "PPM2 -0.002021000181871325 Phosphopentomutase 2 (deoxyribose)\n",
      "PPND 0.013073507130265458 Prephenate dehydrogenase\n",
      "RNDR4 0.002732691408653353 Ribonucleoside-diphosphate reductase (UDP)\n",
      "NTRIR2x 0.0 Nitrite Reductase (NADH)\n",
      "RPE -0.048071146360355727 Ribulose 5-phosphate 3-epimerase\n",
      "RPI -0.048071146360355727 Ribose-5-phosphate isomerase\n",
      "SADT 0.02009156356383357 Sulfate adenylyltransferase\n",
      "PPNDH 0.02075488857099342 Prephenate dehydratase\n",
      "PPPGO 0.0 Protoporphyrinogen oxidase (aerobic)\n",
      "PPS 0.0 Phosphoenolpyruvate synthase\n",
      "PRAGSr 0.021487577815071147 Phosphoribosylglycinamide synthase\n",
      "PRAIi 0.00640982173022183 Phosphoribosylanthranilate isomerase (irreversible)\n",
      "SBTD_D2 0.0 D sorbitol dehydrogenase  D fructose producing \n",
      "SBTt2 0.0 D sorbitol transport in via proton symport\n",
      "SDPDS 0.0 Succinyl-diaminopimelate desuccinylase\n",
      "SERAT 0.0 Serine O-acetyltransferase\n",
      "SERD_D 0.0 D-serine deaminase\n",
      "SHCHD2_1 0.0 Sirohydrochlorin dehydrogenase  NAD \n",
      "PRAIS_1 0.021487577815071147 Phosphoribosylaminoimidazole synthetase\n",
      "PRATPP 0.009642454696823507 Phosphoribosyl-ATP pyrophosphatase\n",
      "PRASCSi 0.021487577815071147 Phosphoribosylaminoimidazolesuccinocarboxamide synthase\n",
      "PRFGS_1 0.021487577815071147 Phosphoribosylformylglycinamidine synthase\n",
      "PRMICI 0.009642454696823507 1-(5-phosphoribosyl)-5-[(5-phosphoribosylamino)methylideneamino)imidazole-4-carboxamide isomerase\n",
      "SERD_L 0.0 L-serine deaminase\n",
      "SHCHF_2 0.0 Sirohydrochlorin ferrochetalase\n",
      "OMPDC 0.014388950337599519 Orotidine-5'-phosphate decarboxylase\n",
      "SHK3Dr 0.040312890155921724 Shikimate dehydrogenase\n",
      "SHKK 0.040312890155921724 Shikimate kinase\n",
      "SHSL1 0.0 O-succinylhomoserine lyase (L-cysteine)\n",
      "URATEt_1 0.0 Urate permease\n",
      "PRO1x 0.0 Proline oxidase  L proline  NAD \n",
      "PRPPS 0.05191889540301295 Phosphoribosylpyrophosphate synthetase\n",
      "SHSL2 0.02009156356383357 O succinylhomoserine lyase  H2S \n",
      "OCOAT1 0.0 3-oxoacid CoA-transferase (Succinyl-CoA: acetoacetate)\n",
      "SHSL3 0.0 O succinylhomoserine lyase  methanethiol \n",
      "SHSL4r 0.03806386094349192 O succinylhomoserine lyase  elimination   reversible\n",
      "PROt2r 0.0 L proline reversible transport via proton symport\n",
      "PSCVT 0.040312890155921724 3-phosphoshikimate 1-carboxyvinyltransferase\n",
      "PSDC_BS 0.0066061178020543135 Phosphatidylserine decarboxylase\n",
      "SLCYSS 0.0 O-acetyl-L-serine sulfhydrylase\n",
      "ORNTA_1 0.0 Ornithine transaminase\n",
      "SPODM 0.0 Superoxide dismutase\n",
      "PSERT 0.11489654997305775 Phosphoserine transaminase\n",
      "PSP_D 0.0 Phosphoserine phosphatase  D serine \n",
      "PTHPS 0.0 6-pyruvoyltetrahydropterin synthase\n",
      "SPMDAT1 0.0 Spermidine acetyltransferase\n",
      "ORPT -0.014388950337599519 Orotate phosphoribosyltransferase\n",
      "SPMDAT3 0.0 Spermidine acetyltransferase  spermine \n",
      "SPMDt3i 0.0 Spermidine transport in via proton antiport\n",
      "SPRMS 0.0 Spermine synthase\n",
      "SPMS 0.0 Spermidine synthase\n",
      "PTPATi 0.0 Pantetheine-phosphate adenylyltransferase\n",
      "PYK 1.148308100957936 Pyruvate kinase\n",
      "PUNP5 0.0 Purine-nucleoside phosphorylase (Inosine)\n",
      "PUNP6 0.0 Purine-nucleoside phosphorylase (Deoxyinosine)\n",
      "PURabc1 0.0 Puromycin efflux  via ABC system\n",
      "PYRIS 0.0 Pyridoxal 5  phsophate synthase\n",
      "OIVD1r 0.006854319085189502 2-oxoisovalerate dehydrogenase (acylating; 4-methyl-2-oxopentaoate)\n",
      "EX_f6p_e 0.0 D-fructose 6-phosphate exchange\n",
      "SSALy 0.0 Succinate-semialdehyde dehydrogenase (NADP)\n",
      "SUCBZL 3.137905955969026e-05 O-succinylbenzoate-CoA ligase\n",
      "SUCBZS 3.137905955969026e-05 O-succinylbenzoate-CoA synthase\n",
      "TGBPA 0.0 Tagatose-bisphosphate aldolase\n",
      "SUCD1 1.8563371087595062 Succinate dehydrogenase\n",
      "OIVD2 0.001523182018930999 2-oxoisovalerate dehydrogenase (acylating; 3-methyl-2-oxobutanoate)\n",
      "SUCD5_BS 1.8563371087595062 Succinate dehydrogenase\n",
      "SUCOAS -1.7981816842521807 Succinyl-CoA synthetase (ADP-forming)\n",
      "THIOGabc 0.0 Thioglycolate transport via ABC system\n",
      "THMt6 0.0 Thymine transport inout via proton symport\n",
      "OIVD3 0.012947047160913506 2-oxoisovalerate dehydrogenase (acylating; 3-methyl-2-oxopentanoate)\n",
      "THRt2r 0.0 L threonine reversible transport via proton symport\n"
     ]
    },
    {
     "name": "stdout",
     "output_type": "stream",
     "text": [
      "P5CR 0.018950356713528693 Pyrroline-5-carboxylate reductase\n",
      "TMPHi 0.0 Trimetaphosphate hydrolase\n",
      "UREAt 0.0 Urea transport via facilitate diffusion\n",
      "TMPt6 0.0 TMP transport inout via proton symport\n",
      "OXADC 6.776263578034403e-21 Oxalate decarboxylase\n",
      "TYRt2r 0.0 L tyrosine reversible transport via proton symport\n",
      "UGLYCH 0.0 Ureidoglycolate hydrolase\n",
      "UMPt6 0.0 UMP transport in via proton symport\n",
      "SULAabc 0.0 Sulfoacetate transport via ABC system\n",
      "TAURabc 0.0 Taurine transport via ABC system\n",
      "TRPAS1 0.0 Tryptophanase  L cysteine \n",
      "THMDt2 0.0 Thymidine transport in via proton symport\n",
      "TMDK1 0.0 Thymidine kinase (ATP:thymidine)\n",
      "TMDPP 3.137905955975795e-05 Thymidine phosphorylase\n",
      "UAGDP 0.03857194218230186 UDP-N-acetylglucosamine diphosphorylase\n",
      "TARTDC 0.0 Tartrate decarboxylase\n",
      "TYRTA -0.013073507130265458 Tyrosine transaminase\n",
      "TECA1S45 0.0004275101949043718 Glycerol teichoic acid  n45   unlinked  unsubstituted\n",
      "TARTRDH 0.0 Tartrate dehydrogenase\n",
      "TAGURr 0.0 Tagaturonate reductase\n",
      "SULR_1 -0.02009156356383357 Sulfite reductase  NADPH2 \n",
      "TALA -0.003879128102217004 Transaldolase\n",
      "THRD 0.0 L-threonine dehydrogenase\n",
      "TECA4S_BS 0.0003671114035713038 Minor teichoic acid synthesis  n30 \n",
      "TEICH45 3.854941057726238e-20 Teichuronic acid  n45   unlinked  GalNAc GlcA repeated\n",
      "THRD_L 0.0 L-threonine deaminase\n",
      "THRS 0.021979143759381266 Threonine synthase\n",
      "TKT1 -0.003879128102217004 Transketolase\n",
      "TKT2 -0.044192018258138725 Transketolase\n",
      "TMN 0.0 Thiaminase\n",
      "TMDS 0.002732691408653354 Thymidylate synthase\n",
      "TMPK 0.0 Thiamine-phosphate kinase\n",
      "TMPPP 0.0 Thiamine-phosphate diphosphorylase\n",
      "TPI 1.5121678199907547 Triose-phosphate isomerase\n",
      "TRDR 0.027585614378317556 Thioredoxin reductase (NADPH)\n",
      "TRE6PH 0.0 Trehalose-6-phosphate hydrolase\n",
      "TRPt2r 0.0 L tryptophan reversible transport via proton symport\n",
      "TRPS1 0.00640982173022183 Tryptophan synthase (indoleglycerol phosphate)\n",
      "UAAGDS 0.012010983861638616 UDP-N-acetylmuramoyl-L-alanyl-D-glutamyl-meso-2,6-diaminopimelate synthetase\n",
      "UAG2E 0.0009189581728214837 UDP-N-acetylglucosamine 2-epimerase\n",
      "UAG2EMA 0.0 UDP-N-acetyl-D-glucosamine 2-epimerase (Hydrolysis)\n",
      "UDPG4E 0.0 UDPglucose 4-epimerase\n",
      "UAGPT3 0.012010983861638616 UDP-N-acetylglucosamine-N-acetylmuramyl-(pentapeptide)pyrophosphoryl-undecaprenol N-acetylglucosamine transferase\n",
      "UAG4E 0.011013342107139116 UDP N acetylglucosamine 4 epimerase\n",
      "UAGCVT 0.012010983861638616 UDP-N-acetylglucosamine 1-carboxyvinyltransferase\n",
      "UAMAGS 0.012010983861638616 UDP-N-acetylmuramoyl-L-alanyl-D-glutamate synthetase\n",
      "UAMAS 0.012010983861638616 UDP-N-acetylmuramoyl-L-alanine synthetase\n",
      "UAPGR 0.012010983861638616 UDP-N-acetylenolpyruvoylglucosamine reductase\n",
      "UDCPDP 0.012010983861638616 Undecaprenyl-diphosphatase\n",
      "UDPGD 1.734723475976807e-18 UDPglucose 6-dehydrogenase\n",
      "UGMDDS 0.012010983861638616 UDP-N-acetylmuramoyl-L-alanyl-D-glutamyl-meso-2,6-diaminopimeloyl-D-alanyl-D-alanine synthetase\n",
      "UGT1_BS 0.0010145109481726282 UDP glucosyltransferase  monoglucosyl \n",
      "UGT2_BS 0.0007785781695278321 UDP glucosyltransferase  triglucosyl \n",
      "UGT_BS 0.0018402756734294155 UDP glucosyltransferase  diglucosyl \n",
      "UNK5 0.0 2 keto 4 methylthiobutyrate transamination\n",
      "UPP3S 0.0 Uroporphyrinogen-III synthase\n",
      "UPP3MT_2 0.0 Uroporphyrinogen methyltransferase\n",
      "ALDD9 0.0 Aldehyde dehydrogenase  nonanal  NAD \n",
      "FRUpts 0.0 D-fructose transport via PEP:Pyr PTS\n",
      "CYTDt2 0.0 Cytidine transport in via proton symport\n",
      "GLYBabc 0.0 Glycine betaine transport via ABC system\n",
      "ACLS 0.08745166949720656 Acetolactate synthase\n",
      "ACHBS 0.0447867654709754 2-aceto-2-hydroxybutanoate synthase\n",
      "X00002 0.0 Lumped reaction for synthesis of pime\n",
      "NTD8 0.0 5'-nucleotidase (dGMP)\n",
      "23CN2P1 0.0 2  3  cyclic nucleotide 2  phosphodiesterase  2  3  cyclc AMP \n",
      "23CN2P2 0.0 2  3  cyclic nucleotide 2  phosphodiesterase  2  3  cyclic UMP \n",
      "23CN2P3 0.0 2  3  cyclic nucleotide 2  phosphodiesterase  2  3  cyclic CMP \n",
      "23CN2P4 0.0 2  3  cyclic nucleotide 2  phosphodiesterase  2  3   cyclic GMP \n",
      "NTD6 0.0 5'-nucleotidase (dAMP)\n",
      "NTD9 0.0 5'-nucleotidase (GMP)\n",
      "NTD1 0.0 5'-nucleotidase (dUMP)\n",
      "NTD10 0.0 5'-nucleotidase (XMP)\n",
      "NTD2 0.0 5'-nucleotidase (UMP)\n",
      "3NUCLE1 0.0 3  nucleotidase  3  AMP \n",
      "3NUCLE2 0.0 3  nucleotidase  3  UMP \n",
      "3NUCLE3 0.0 3  nucleotidase  3  cMP \n",
      "3NUCLE4 0.0 3  nucleotidase  guanosine 3  phosphate \n",
      "NTD3 0.0 5'-nucleotidase (dCMP)\n",
      "NTD4 0.0 5'-nucleotidase (CMP)\n",
      "NTD5 3.137905955975795e-05 5'-nucleotidase (dTMP)\n",
      "NTD7 0.0 5'-nucleotidase (AMP)\n",
      "ABUTt2r 0.0 4 aminobutyrate reversible transport in via proton symport\n",
      "BALAt2r 0.0 Beta Alanine transport in via proton symport\n",
      "S6PG 0.0 Salicin 6 phosphate glucohydrolase\n",
      "URIK3 0.0 Uridine kinase (ITP:Uridine)\n",
      "LCADi 0.0 Lactaldehyde dehydrogenase\n",
      "XTSNt2 0.0 Xanthosine transport in via proton symport\n",
      "XYLt2 0.0 D-xylose transport in via proton symport\n",
      "ZN2t4 0.0 Zinc transport out via antiport\n",
      "URIK1 0.0 Uridine kinase  ATPUridine \n",
      "URIK2 0.0 Uridine kinase (GTP:Uridine)\n",
      "URIt2 0.0 Uridine transport in via proton symport\n",
      "UPPRT 0.0 Uracil phosphoribosyltransferase\n",
      "XPPT 0.0 Xanthine phosphoribosyltransferase\n",
      "HXAND 0.0 Hypoxanthine dehydrogenase\n",
      "URIDK2r_copy2 -0.002732691408653353 Uridylate kinase (dUMP)\n",
      "VALDHr -0.7156686995308021 Valine dehydrogenase\n",
      "VALTA 0.6794843970683857 Valine transaminase\n",
      "VALt2r 0.0 L valine reversible transport via proton symport\n",
      "UMPK 0.038332234479198736 UMP kinase\n",
      "XYL14BASE 0.0 Xylan 1 4 beta xylosidase\n",
      "UPPDC1 0.0 Uroporphyrinogen decarboxylase (uroporphyrinogen III)\n",
      "URAt2 0.0 Uracil transport in via proton symport\n",
      "URCN 0.0 Urocanase\n",
      "URIDK2r_copy1 0.0 Uridylate kinase (dUMP)\n",
      "UREA 0.0 Urease\n",
      "XAND 0.0 Xanthine dehydrogenase\n",
      "URIC 0.0 Uricase\n",
      "XYLI1 0.0 Xylose isomerase\n",
      "XANt2 0.0 Xanthine transport in via proton symport\n",
      "XYLI2 0.0 Xylose isomerase\n",
      "XYLK 0.0 Xylulokinase\n",
      "ZNabc 0.0 Zinc transport via ABC system\n",
      "ALDD10 0.0 Aldehyde dehydrogenase  decanal  NAD \n",
      "ALDD11 0.0 Aldehyde dehydrogenase  undecanal  NAD \n",
      "ALDD12 0.0 Aldehyde dehydrogenase  dodecanal  NAD \n",
      "ALDD13 0.0 Aldehyde dehydrogenase  tridecanal  NAD \n",
      "ALDD14 0.0 Aldehyde dehydrogenase  tetradecanal  NAD \n",
      "ALDD15 0.0 Aldehyde dehydrogenase  pentadecanal  NAD \n",
      "ALDD16 0.0 Aldehyde dehydrogenase  hexadecanal  NAD \n",
      "ALDD17 0.0 Aldehyde dehydrogenase  heptadecanal  NAD \n",
      "ALDD18 0.0 Aldehyde dehydrogenase  octadecanal  NAD \n",
      "ALDD1 0.0 Aldehyde dehydrogenase  formaldehyde  NAD \n",
      "ALDD20x_1 0.0 Aldehyde dehydrogenase  NAD \n",
      "ALDD2x 0.0 Aldehyde dehydrogenase (acetaldehyde, NAD)\n",
      "ALDD3 0.0 Aldehyde dehydrogenase  propanal  NAD \n",
      "GLXO1 0.0 Glyoxylate oxidase\n",
      "ALDD31_1 0.0 Aldehyde dehydrogenase  aminoacetaldehyde  NAD \n",
      "ALDD32 0.0 Aldehyde dehydrogenase  D Glucuronolactone  NADH \n",
      "ALDD4 0.0 Aldehyde dehydrogenase (butanal, NAD)\n",
      "ALDD4x 0.0 Aldehyde dehydrogenase  methylmalonate semialdehyde  NAD \n",
      "ALDD5 0.0 Aldehyde dehydrogenase  pentanal  NAD \n",
      "ALDD6 0.0 Aldehyde dehydrogenase  hexanal  NAD \n",
      "ALDD7 0.0 Aldehyde dehydrogenase  heptanal  NAD \n",
      "ALDD8 0.0 Aldehyde dehydrogenase  octanal  NAD \n",
      "GLYALDDr 0.0 D-Glyceraldehyde dehydrogenase\n",
      "DIPEPabc12 0.0 Dipeptide transport via ABC system  met ala \n",
      "DIPEPabc13 0.0 Dipeptide transport via ABC system  gly asp \n",
      "DIPEPabc14 0.0 Dipeptide transport via ABC system  gly pro L \n",
      "DIPEPabc15 0.0 Dipeptide transport via ABC system  cgly \n",
      "DIPEPabc2 0.0 Dipeptide transport via ABC system  ala gln \n",
      "DIPEPabc3 0.0 Dipeptide transport via ABC system  ala glu \n",
      "DIPEPabc4 0.0 Dipeptide transport via ABC system  ala gly \n",
      "DIPEPabc5 0.0 Dipeptide transport via ABC system  ala his \n",
      "DIPEPabc6 0.0 Dipeptide transport via ABC system  ala leu \n",
      "DIPEPabc7 0.0 Dipeptide transport via ABC system  ala thr \n",
      "DIPEPabc8 0.0 Dipeptide transport via ABC system  gly asn \n",
      "DIPEPabc9 0.0 Dipeptide transport via ABC system  gly gln \n",
      "RIBabc1 0.0 D ribose transport out via ABC system\n",
      "FRUK 0.0 Fructose-1-phosphate kinase\n",
      "FACOAL140 0.0 Fatty acid  CoA ligase  tetradecanoate \n",
      "FACOAL140_ISO 0.0002538636698218334 Fatty acid  CoA ligase  Iso C140 \n",
      "FACOAL150_ISO 0.005077273396436668 Fatty acid  CoA ligase  Iso C150 \n",
      "PPAKr 0.0 Propionate kinase\n",
      "ACOAD3 -0.003300227707683838 Acyl-CoA dehydrogenase (octanoyl-CoA)\n",
      "ACOAD4_1 -0.003300227707683838 Acyl CoA dehydrogenase  decanoyl CoA \n",
      "ACOAD5_1 -0.003300227707683838 Acyl CoA dehydrogenase  dodecanoyl CoA \n",
      "ACOAD6 -0.003300227707683838 Acyl-CoA dehydrogenase (tetradecanoyl-CoA)\n",
      "ACOAD7 -0.002538636698218338 Acyl-CoA dehydrogenase (hexadecanoyl-CoA)\n",
      "DADNK 0.0 Deoxyadenosine kinase\n",
      "CSNt2 0.0 Cytosine transport in via proton symport\n",
      "INSt2 0.0 Inosine transport in via proton symport\n",
      "DHAD3 0.03183971831006189 Dihydroxy acid dehydratase  2 3 dihydroxy 3 methylpentanoate \n",
      "CELBpts 0.0 Cellobiose transport via PEPPyr PTS\n",
      "MSO3abc 0.0 Methanesulfonate transport via ABC system\n",
      "ISTNTabc 0.0 Isethionate transport via ABC system\n",
      "CTBTabc 0.0 Crotonobetaine transport in via ABC system\n",
      "CHLabc 0.0 Choline transport via ABC system\n",
      "CITt15 0.0 Citrate transport in via Zn complex\n",
      "CHOLSabc_1 0.0 Choline sulfate transport in via ABC system\n",
      "ECTOINEabc 0.0 Ecotine transport in via ABC system\n",
      "ITCY 0.0 ITP:cytidine 5'-phosphotransferase\n",
      "PROLBabc 0.0 Proline betaine transport in via ABC system\n",
      "GLCpts 1.699999999999993 D-glucose transport via PEP:Pyr PTS\n",
      "MANpts 0.0 D-mannose transport via PEP:Pyr PTS\n",
      "MNLpts 0.0 Mannitol transport via PEP:Pyr PTS\n",
      "DIPEPabc10 0.0 Dipeptide transport via ABC system  gly glu \n",
      "DIPEPabc11 0.0 Dipeptide transport via ABC system  gly met \n",
      "SUCpts 0.0 Sucrose transport via PEP:Pyr PTS\n",
      "TREpts 0.0 Trehalose transport via PEP:Pyr PTS\n",
      "FERRICHabc 0.0 Ferrichrome transport via ABC system\n",
      "GPDDA2 0.0 Glycerophosphodiester phosphodiesterase (Glycerophosphoethanolamine)\n",
      "HACD3 0.003300227707683838 3-hydroxyacyl-CoA dehydrogenase (3-oxooctanoyl-CoA)\n",
      "HACD4 0.003300227707683838 3-hydroxyacyl-CoA dehydrogenase (3-oxodecanoyl-CoA)\n",
      "HACD5 0.003300227707683838 3-hydroxyacyl-CoA dehydrogenase (3-oxododecanoyl-CoA)\n",
      "HACD6 0.003300227707683838 3-hydroxyacyl-CoA dehydrogenase (3-oxotetradecanoyl-CoA)\n",
      "HACD7 0.002538636698218338 3-hydroxyacyl-CoA dehydrogenase (3-oxohexadecanoyl-CoA)\n",
      "HACD9 1.734723475976807e-18 3 hydroxyacyl CoA dehydrogenase  2 Methylacetoacetyl CoA \n",
      "HACOADr -9.76680237544791e-19 3 hydroxyacyl CoA dehydrogenase\n",
      "ICHORS 3.137905955969026e-05 Isochorismate synthase\n",
      "INSCR 0.0 Inositol catabolic reactions  lumped \n",
      "FACOAL161_ISO 0.0 Fatty acid  CoA ligase  Iso C161 \n",
      "FACOAL170_ISO 0.0017770456887528337 Fatty acid  CoA ligase  Iso C170 \n",
      "FACOAL170_anteiso 0.004315682386971168 Fatty acid  CoA ligase  anteiso C170 \n",
      "FACOAL171_ISO 0.0 Fatty acid  CoA ligase  Iso C171 \n",
      "FACOAL171_anteiso 0.0 Fatty acid  CoA ligase  anteiso C171 \n",
      "FACOAL180_2 0.0007615910094654997 Fatty acid  CoA ligase  octadecanoate \n",
      "FACOAL181 0.0 Fatty acid  CoA ligase  octadecenoate \n",
      "KAS13 0.0007615910094655002 B-ketoacyl synthetase (octadecanoate)\n",
      "KAS17 0.0 B-ketoacyl synthetase (n-C18:1)\n",
      "FACOAL150_anteiso 0.008631364773942336 Fatty acid  CoA ligase  anteiso C150 \n",
      "FACOAL160 -1.0634514948460414e-18 Fatty acid  CoA ligase  hexadecanoate \n",
      "FACOAL160_ISO 0.0012693183491091667 Fatty acid  CoA ligase  Iso C160 \n",
      "FACOAL161 0.0 Fatty acid  CoA ligase  hexadecenoate \n",
      "KAS2 0.0 B-ketoacyl synthetase (n-C14:0)\n",
      "KAS3 0.005077273396436668 B-ketoacyl synthetase (Iso-C15:0)\n",
      "KAS4 0.008631364773942336 B-ketoacyl synthetase (Anteiso-C15:0)\n",
      "KAS5 0.0 B-ketoacyl synthetase (Iso-C16:1)\n",
      "KAS6 0.0012693183491091667 B-ketoacyl synthetase (Iso-C16:0)\n",
      "KAS7 0.0 B-ketoacyl synthetase (n-C16:1)\n",
      "KAS8 0.0 B-ketoacyl synthetase (palmitate, n-C16:0)\n",
      "KAS9 0.0 B-ketoacyl synthetase (Iso-C17:1)\n",
      "KAS10 0.0 B-ketoacyl synthetase (Anteiso-C17:1)\n",
      "KAS11 0.0017770456887528337 B-ketoacyl synthetase (Iso-C17:0)\n",
      "PUNP7 0.0 Purine-nucleoside phosphorylase (Xanthosine)\n",
      "PUNP8 0.0 Purine nucleoside phosphorylase  nebularine \n",
      "PUNP1 0.0 Purine-nucleoside phosphorylase (Adenosine)\n",
      "PUNP2 0.0 Purine-nucleoside phosphorylase (Deoxyadenosine)\n",
      "KAS12 0.004315682386971168 B-ketoacyl synthetase (Anteiso-C17:0)\n",
      "LAAL34 0.0 L amino acid ligase  ser trp \n",
      "LAAL35 0.0 L amino acid ligase  gly gln \n",
      "LAAL36 0.0 L amino acid ligase  ala gln \n",
      "LAAL37 0.0 L amino acid ligase  ser gln \n",
      "LAAL38 0.0 L amino acid ligase  thr gln \n",
      "LAAL39 0.0 L amino acid ligase  ala asn \n",
      "PANTS 0.0 Pantothenate synthase\n",
      "LAAL4 0.0 L amino acid ligase  thr gly \n",
      "LAAL40 0.0 L amino acid ligase  ala his \n",
      "LAAL41 0.0 L amino acid ligase  ser his \n",
      "LAAL42 0.0 L amino acid ligase  met his \n",
      "PAPPT3 0.012010983861638616 Phospho-N-acetylmuramoyl-pentapeptide-transferase (meso-2,6-diaminopimelate)\n",
      "LAAL5 0.0 L amino acid ligase  Ala Ala \n",
      "LAAL6 0.0 L amino acid ligase  Ser Ala \n",
      "PC 0.29710141863458384 Pyruvate carboxylase\n",
      "LAAL7 0.0 L amino acid ligase  Ala Ser \n",
      "LAAL8 0.0 L amino acid ligase  Ser Ser \n",
      "LAAL9 0.0 L amino acid ligase  Gly Cys \n",
      "PBUTT 0.0 Phosphate butyryltransferase\n",
      "MLTG3 0.0 Maltodextrin glucosidase (maltopentaose)\n",
      "MLTG4 0.0 Maltodextrin glucosidase (maltohexaose)\n",
      "PDH 2.202323209297355 Pyruvate dehydrogenase\n",
      "MLTG5 0.0 Maltodextrin glucosidase (maltoheptaose)\n",
      "MLTG6 0.0 Maltodextrin glucosidase  dextrin \n",
      "MLTG7 0.0 Maltodextrin glucosidase  isomaltose \n",
      "PFK_2 0.0 Phosphofructokinase\n",
      "TARTRDH2 0.0 Tartrate dehydrogenase\n",
      "PUNP3 0.0 Purine-nucleoside phosphorylase (Guanosine)\n",
      "PUNP4 -0.0020523792414310835 Purine-nucleoside phosphorylase (Deoxyguanosine)\n",
      "PFK 1.5836747984079802 Phosphofructokinase\n",
      "METSRabc 0.0 L methionine R oxide transport via ABC system\n",
      "PRAMPC_1 0.009642454696823507 Phosphoribosyl AMP cyclohydrolase\n",
      "PSP_L 0.11489654997305775 Phosphoserine phosphatase (L-serine)\n",
      "PGAMT -0.03857194218230186 Phosphoglucosamine mutase\n",
      "TECA2S45 0.0002768671157396692 Glycerol teichoic acid  n45   unlinked  D ala substituted\n",
      "RNDR1 0.0027111035594073554 Ribonucleoside-diphosphate reductase (ADP)\n",
      "PGMT -0.029682113049355294 Phosphoglucomutase\n",
      "RNDR2 0.0 Ribonucleoside-diphosphate reductase (GDP)\n",
      "PGCD 0.11489654997305775 Phosphoglycerate dehydrogenase\n",
      "RNDR3 0.0020502558464232804 Ribonucleoside-diphosphate reductase (CDP)\n",
      "TECA3S45 0.0002145808621774427 Glycerol teichoic acid  n45   unlinked  glucose substituted\n",
      "GND 0.0 Phosphogluconate dehydrogenase\n",
      "PGK -3.0558197682720296 Phosphoglycerate kinase\n",
      "PGLYCP 0.0 Phosphoglycolate phosphatase\n",
      "PGM -2.9409448651314127 Phosphoglycerate mutase\n",
      "PHCYT_BS 0.009059818699961742 Phosphatidate cytidylyltransferase\n"
     ]
    }
   ],
   "source": [
    "for reaction in model.reactions:\n",
    "    print(reaction.id, reaction.flux, reaction.name)  # Para observar ID, valor de flujo y nombre de cada reacción del modelo"
   ]
  },
  {
   "cell_type": "markdown",
   "id": "d47f42d1",
   "metadata": {},
   "source": [
    "# umax"
   ]
  },
  {
   "cell_type": "code",
   "execution_count": 5,
   "id": "5bb4344d",
   "metadata": {},
   "outputs": [
    {
     "data": {
      "text/plain": [
       "0.1179663893223982"
      ]
     },
     "execution_count": 5,
     "metadata": {},
     "output_type": "execute_result"
    }
   ],
   "source": [
    "model.reactions.BIOMASS_BS_10.flux # Para mostrar velocidad de crecimiento de modelo"
   ]
  },
  {
   "cell_type": "markdown",
   "id": "b63aa909",
   "metadata": {},
   "source": [
    "The growth rate is 0.11796 $h^{-1}$."
   ]
  },
  {
   "cell_type": "code",
   "execution_count": 6,
   "id": "13166575",
   "metadata": {},
   "outputs": [
    {
     "data": {
      "text/plain": [
       "1.7"
      ]
     },
     "execution_count": 6,
     "metadata": {},
     "output_type": "execute_result"
    }
   ],
   "source": [
    "-1 * model.reactions.EX_glc__D_e.flux # Para mostrar el flujo de glucosa de intercambio de modelo"
   ]
  },
  {
   "cell_type": "markdown",
   "id": "0cabf323",
   "metadata": {},
   "source": [
    "# YX/S"
   ]
  },
  {
   "cell_type": "code",
   "execution_count": 7,
   "id": "272c6284",
   "metadata": {},
   "outputs": [
    {
     "name": "stdout",
     "output_type": "stream",
     "text": [
      "Rendimiento de biomasa: 0.06939199371905777 mol biomasa/mol glucosa\n"
     ]
    }
   ],
   "source": [
    "# Rendimiento de biomasa en glucosa\n",
    "print('Rendimiento de biomasa:', solution.fluxes['BIOMASS_BS_10'] / (-1 * solution.fluxes['EX_glc__D_e']), 'mol biomasa/mol glucosa')"
   ]
  },
  {
   "cell_type": "code",
   "execution_count": 8,
   "id": "8e5adfb9",
   "metadata": {},
   "outputs": [
    {
     "data": {
      "text/html": [
       "<div>\n",
       "<style scoped>\n",
       "    .dataframe tbody tr th:only-of-type {\n",
       "        vertical-align: middle;\n",
       "    }\n",
       "\n",
       "    .dataframe tbody tr th {\n",
       "        vertical-align: top;\n",
       "    }\n",
       "\n",
       "    .dataframe thead th {\n",
       "        text-align: right;\n",
       "    }\n",
       "</style>\n",
       "<table border=\"1\" class=\"dataframe\">\n",
       "  <thead>\n",
       "    <tr style=\"text-align: right;\">\n",
       "      <th></th>\n",
       "      <th>fluxes</th>\n",
       "      <th>reduced_costs</th>\n",
       "    </tr>\n",
       "  </thead>\n",
       "  <tbody>\n",
       "    <tr>\n",
       "      <th>EX_fe3_e</th>\n",
       "      <td>-0.000407</td>\n",
       "      <td>1.075735e-14</td>\n",
       "    </tr>\n",
       "    <tr>\n",
       "      <th>EX_glc__D_e</th>\n",
       "      <td>-1.700000</td>\n",
       "      <td>-1.780625e-01</td>\n",
       "    </tr>\n",
       "    <tr>\n",
       "      <th>EX_ca2_e</th>\n",
       "      <td>-0.000378</td>\n",
       "      <td>-3.108624e-14</td>\n",
       "    </tr>\n",
       "    <tr>\n",
       "      <th>EX_so4_e</th>\n",
       "      <td>-0.020092</td>\n",
       "      <td>0.000000e+00</td>\n",
       "    </tr>\n",
       "    <tr>\n",
       "      <th>EX_co2_e</th>\n",
       "      <td>5.980676</td>\n",
       "      <td>0.000000e+00</td>\n",
       "    </tr>\n",
       "    <tr>\n",
       "      <th>...</th>\n",
       "      <td>...</td>\n",
       "      <td>...</td>\n",
       "    </tr>\n",
       "    <tr>\n",
       "      <th>RNDR3</th>\n",
       "      <td>0.002050</td>\n",
       "      <td>-2.678413e-14</td>\n",
       "    </tr>\n",
       "    <tr>\n",
       "      <th>TECA3S45</th>\n",
       "      <td>0.000215</td>\n",
       "      <td>2.996214e-14</td>\n",
       "    </tr>\n",
       "    <tr>\n",
       "      <th>PGK</th>\n",
       "      <td>-3.055820</td>\n",
       "      <td>-6.938894e-18</td>\n",
       "    </tr>\n",
       "    <tr>\n",
       "      <th>PGM</th>\n",
       "      <td>-2.940945</td>\n",
       "      <td>-0.000000e+00</td>\n",
       "    </tr>\n",
       "    <tr>\n",
       "      <th>PHCYT_BS</th>\n",
       "      <td>0.009060</td>\n",
       "      <td>-3.608225e-15</td>\n",
       "    </tr>\n",
       "  </tbody>\n",
       "</table>\n",
       "<p>347 rows × 2 columns</p>\n",
       "</div>"
      ],
      "text/plain": [
       "               fluxes  reduced_costs\n",
       "EX_fe3_e    -0.000407   1.075735e-14\n",
       "EX_glc__D_e -1.700000  -1.780625e-01\n",
       "EX_ca2_e    -0.000378  -3.108624e-14\n",
       "EX_so4_e    -0.020092   0.000000e+00\n",
       "EX_co2_e     5.980676   0.000000e+00\n",
       "...               ...            ...\n",
       "RNDR3        0.002050  -2.678413e-14\n",
       "TECA3S45     0.000215   2.996214e-14\n",
       "PGK         -3.055820  -6.938894e-18\n",
       "PGM         -2.940945  -0.000000e+00\n",
       "PHCYT_BS     0.009060  -3.608225e-15\n",
       "\n",
       "[347 rows x 2 columns]"
      ]
     },
     "execution_count": 8,
     "metadata": {},
     "output_type": "execute_result"
    }
   ],
   "source": [
    "solution_frame = solution.to_frame()\n",
    "solution_frame[solution_frame.fluxes != 0.] # Muestra flujos de reacciones diferentes a 0\n",
    "# Columna 'reduced_costs' muestra la mínima concentración de cada metabolito para optimizar el flujo de Biomasa"
   ]
  },
  {
   "cell_type": "code",
   "execution_count": 9,
   "id": "437bc126",
   "metadata": {
    "scrolled": false
   },
   "outputs": [
    {
     "data": {
      "text/html": [
       "<div>\n",
       "<style scoped>\n",
       "    .dataframe tbody tr th:only-of-type {\n",
       "        vertical-align: middle;\n",
       "    }\n",
       "\n",
       "    .dataframe tbody tr th {\n",
       "        vertical-align: top;\n",
       "    }\n",
       "\n",
       "    .dataframe thead th {\n",
       "        text-align: right;\n",
       "    }\n",
       "</style>\n",
       "<table border=\"1\" class=\"dataframe\">\n",
       "  <thead>\n",
       "    <tr style=\"text-align: right;\">\n",
       "      <th></th>\n",
       "      <th>fluxes</th>\n",
       "      <th>reduced_costs</th>\n",
       "    </tr>\n",
       "  </thead>\n",
       "  <tbody>\n",
       "    <tr>\n",
       "      <th>EX_etha_e</th>\n",
       "      <td>0.000000</td>\n",
       "      <td>-6.677343e-02</td>\n",
       "    </tr>\n",
       "    <tr>\n",
       "      <th>EX_drib_e</th>\n",
       "      <td>0.000000</td>\n",
       "      <td>-1.502402e-01</td>\n",
       "    </tr>\n",
       "    <tr>\n",
       "      <th>EX_csn_e</th>\n",
       "      <td>0.000000</td>\n",
       "      <td>-1.298372e-01</td>\n",
       "    </tr>\n",
       "    <tr>\n",
       "      <th>EX_5mtr_e</th>\n",
       "      <td>0.000000</td>\n",
       "      <td>-2.244329e-01</td>\n",
       "    </tr>\n",
       "    <tr>\n",
       "      <th>EX_dtmp_e</th>\n",
       "      <td>0.000000</td>\n",
       "      <td>-3.375768e-01</td>\n",
       "    </tr>\n",
       "    <tr>\n",
       "      <th>...</th>\n",
       "      <td>...</td>\n",
       "      <td>...</td>\n",
       "    </tr>\n",
       "    <tr>\n",
       "      <th>GND</th>\n",
       "      <td>0.000000</td>\n",
       "      <td>0.000000e+00</td>\n",
       "    </tr>\n",
       "    <tr>\n",
       "      <th>PGK</th>\n",
       "      <td>-3.055820</td>\n",
       "      <td>-6.938894e-18</td>\n",
       "    </tr>\n",
       "    <tr>\n",
       "      <th>PGLYCP</th>\n",
       "      <td>0.000000</td>\n",
       "      <td>-5.065393e-16</td>\n",
       "    </tr>\n",
       "    <tr>\n",
       "      <th>PGM</th>\n",
       "      <td>-2.940945</td>\n",
       "      <td>-0.000000e+00</td>\n",
       "    </tr>\n",
       "    <tr>\n",
       "      <th>PHCYT_BS</th>\n",
       "      <td>0.009060</td>\n",
       "      <td>-3.608225e-15</td>\n",
       "    </tr>\n",
       "  </tbody>\n",
       "</table>\n",
       "<p>1250 rows × 2 columns</p>\n",
       "</div>"
      ],
      "text/plain": [
       "             fluxes  reduced_costs\n",
       "EX_etha_e  0.000000  -6.677343e-02\n",
       "EX_drib_e  0.000000  -1.502402e-01\n",
       "EX_csn_e   0.000000  -1.298372e-01\n",
       "EX_5mtr_e  0.000000  -2.244329e-01\n",
       "EX_dtmp_e  0.000000  -3.375768e-01\n",
       "...             ...            ...\n",
       "GND        0.000000   0.000000e+00\n",
       "PGK       -3.055820  -6.938894e-18\n",
       "PGLYCP     0.000000  -5.065393e-16\n",
       "PGM       -2.940945  -0.000000e+00\n",
       "PHCYT_BS   0.009060  -3.608225e-15\n",
       "\n",
       "[1250 rows x 2 columns]"
      ]
     },
     "execution_count": 9,
     "metadata": {},
     "output_type": "execute_result"
    }
   ],
   "source": [
    "solution_frame # Muestra soluciones para el flujo incluyendo flujos iguales a 0"
   ]
  },
  {
   "cell_type": "markdown",
   "id": "f402c669",
   "metadata": {},
   "source": [
    "## Optimización de producción y rendimiento de PHB"
   ]
  },
  {
   "cell_type": "code",
   "execution_count": 10,
   "id": "01ab2aa8",
   "metadata": {},
   "outputs": [],
   "source": [
    "from cobra.io import read_sbml_model, write_sbml_model # Para leer archivo sbml\n",
    "model = read_sbml_model('datos/iYO844.xml')  \n",
    "write_sbml_model(model, 'datos/iYO844.xml')"
   ]
  },
  {
   "cell_type": "markdown",
   "id": "bfbdc2b9",
   "metadata": {},
   "source": [
    "- **Función objetivo: Biomasa**"
   ]
  },
  {
   "cell_type": "code",
   "execution_count": 11,
   "id": "54d49365",
   "metadata": {
    "scrolled": false
   },
   "outputs": [
    {
     "name": "stdout",
     "output_type": "stream",
     "text": [
      "Flujo de PHB: 0.0033002277076833566 mol gDCW^(-1) h^(-1)\n",
      "Rendimiento de biomasa: 0.0019413104162843274 mol biomasa/mol glucosa\n"
     ]
    }
   ],
   "source": [
    "model = model.copy()\n",
    "solution1 = model.optimize() # Optimizando flujo de biomasa\n",
    "print('Flujo de PHB:', solution1.fluxes['ACACT1r'], 'mol gDCW^(-1) h^(-1)') # Flujo de PHB\n",
    "print('Rendimiento de biomasa:', solution1.fluxes['ACACT1r'] / (-1 * solution1.fluxes['EX_glc__D_e']), 'mol biomasa/mol glucosa')"
   ]
  },
  {
   "cell_type": "markdown",
   "id": "98c0931d",
   "metadata": {},
   "source": [
    "- **Función objetivo para calcular PRODUCCION Y RENDIMIENTO DE PHB**"
   ]
  },
  {
   "cell_type": "code",
   "execution_count": 12,
   "id": "c26b2dff",
   "metadata": {},
   "outputs": [
    {
     "name": "stdout",
     "output_type": "stream",
     "text": [
      "velocidad de produccion: 1.928571428571398 mol gDCW^(-1) h^(-1)\n",
      "Rendimiento de phb: 1.134453781512587 mol phb/mol glucosa\n"
     ]
    }
   ],
   "source": [
    "model = model.copy()\n",
    "model.objective = \"ACACT1r\" # Función objetivo: flujo de PHB\n",
    "solution2 = model.optimize() # Optimizando flujo de PHB\n",
    "print('velocidad de produccion:', solution2.fluxes['ACACT1r'], 'mol gDCW^(-1) h^(-1)') # Flujo de PHB\n",
    "print('Rendimiento de phb:', solution2.fluxes['ACACT1r'] / (-1 * solution2.fluxes['EX_glc__D_e']), 'mol phb/mol glucosa')"
   ]
  },
  {
   "attachments": {
    "image.png": {
     "image/png": "[encoded data removed]"
    }
   },
   "cell_type": "markdown",
   "id": "be14555f",
   "metadata": {},
   "source": [
    "# Nota\n",
    "aca agrege una funcion objetivo de PHB pero usando Acetyl-CoA C-acetyltransferase osea estoy dando a entender como seria la funcion que se deberia de dar o que formula se aplica para que nos el parametro verdadero de phb que la vuelvo aplicar abajo pero ya con otros datos \n",
    "![image.png](attachment:image.png)"
   ]
  },
  {
   "cell_type": "markdown",
   "id": "d088c31d",
   "metadata": {},
   "source": [
    "### AGREGANDO METABOLITOS/REACCIONES PARA LA PRODUCCIÓN DE PHB"
   ]
  },
  {
   "cell_type": "code",
   "execution_count": 13,
   "id": "1cab8466",
   "metadata": {},
   "outputs": [],
   "source": [
    "import cobra.test\n",
    "from cobra.io import read_sbml_model # Importando lector de archivos 'sbml'"
   ]
  },
  {
   "cell_type": "code",
   "execution_count": 14,
   "id": "65cc3d0b",
   "metadata": {},
   "outputs": [],
   "source": [
    "# Cargar el modelo metabólico para la escala del genoma \n",
    "model = read_sbml_model('datos/iYO844.xml')\n",
    "model = model.copy()"
   ]
  },
  {
   "cell_type": "code",
   "execution_count": 15,
   "id": "eb8aa97b",
   "metadata": {},
   "outputs": [],
   "source": [
    "from cobra import Metabolite"
   ]
  },
  {
   "cell_type": "code",
   "execution_count": 16,
   "id": "625fb8bf",
   "metadata": {},
   "outputs": [],
   "source": [
    "# Metabolitos \n",
    "accoa_c = model.metabolites.get_by_id('accoa_c')\n",
    "coa_c = model.metabolites.get_by_id('coa_c')\n",
    "h_c = model.metabolites.get_by_id('h_c')\n",
    "nad_c = model.metabolites.get_by_id('nad_c')\n",
    "nadp_c = model.metabolites.get_by_id('nadp_c')\n",
    "nadph_c = model.metabolites.get_by_id('nadph_c')\n",
    "co2_c = model.metabolites.get_by_id('co2_c')"
   ]
  },
  {
   "cell_type": "code",
   "execution_count": 17,
   "id": "d93dfba3",
   "metadata": {},
   "outputs": [],
   "source": [
    "# Creando nuevos metabolitos\n",
    "aaccoa_c = Metabolite( 'aaccoa_c', formula='C25H36N7O18P3S', name='Acetoacetyl-CoA', compartment ='c')\n",
    "rhybc_c = Metabolite( 'rhybc_c', formula='C25H28N7O18P3S', name='R-3-hydroxybutanoyl-CoA', compartment ='c')\n",
    "polhybu_c = Metabolite( 'polhybu_c', formula='C12H18O6', name='Poly-beta-hidroxybutyrate', compartment ='c')"
   ]
  },
  {
   "cell_type": "code",
   "execution_count": 18,
   "id": "f155358a",
   "metadata": {},
   "outputs": [],
   "source": [
    "# Nuevas reacciones\n",
    "from cobra import Reaction"
   ]
  },
  {
   "cell_type": "code",
   "execution_count": 19,
   "id": "6ad081e1",
   "metadata": {},
   "outputs": [],
   "source": [
    "# Reacción de phbA\n",
    "reaction1 = Reaction('phbA')\n",
    "reaction1.name = 'Acetyl-CoA C-acetyltransferase'\n",
    "reaction1.subsystem = 'PHB biosynthesis'\n",
    "reaction1.lower_bound = 0\n",
    "reaction1.upper_bound = 1000\n",
    "reaction1.add_metabolites({accoa_c: -2.0, aaccoa_c: 1.0, coa_c: 1.0})\n",
    "model.add_reaction(reaction1)\n",
    "\n",
    "# Reacción de phbB\n",
    "reaction2 = Reaction('phbB')\n",
    "reaction2.name = 'Acetoacetyl-CoA reductase'\n",
    "reaction2.subsystem = 'PHB biosynthesis'\n",
    "reaction2.lower_bound = 0\n",
    "reaction2.upper_bound = 1000\n",
    "reaction2.add_metabolites({aaccoa_c: -1.0, h_c: -1.0, nadph_c: -1.0, nadp_c: 1.0, rhybc_c: 1.0})\n",
    "model.add_reaction(reaction2)\n",
    "\n",
    "# Reacción de phbC\n",
    "reaction3 = Reaction('phbC')\n",
    "reaction3.name = 'Polyhydroxyalkanoate synthase'\n",
    "reaction3.subsystem = 'PHB biosynthesis'\n",
    "reaction3.lower_bound = 0\n",
    "reaction3.upper_bound = 1000\n",
    "reaction3.add_metabolites({rhybc_c: -3.0, coa_c: 3.0, polhybu_c: 1.0})\n",
    "model.add_reaction(reaction3)\n",
    "\n",
    "# Reacción de Ex_PHB:\n",
    "reaction4 = Reaction('Ex_PHB')\n",
    "reaction4.name = 'Exchange PHB'\n",
    "reaction4.subsystem = 'PHB biosynthesis'\n",
    "reaction4.lower_bound = 0\n",
    "reaction4.upper_bound = 1000\n",
    "reaction4.add_metabolites({polhybu_c: -1.0})\n",
    "model.add_reaction(reaction4)"
   ]
  },
  {
   "cell_type": "markdown",
   "id": "0b14ac6a",
   "metadata": {},
   "source": [
    "### CUANTIFICACIÓN DE LA PRODUCCIÓN DE PHB"
   ]
  },
  {
   "cell_type": "code",
   "execution_count": 20,
   "id": "d44dd7ef",
   "metadata": {},
   "outputs": [],
   "source": [
    "# Establecer el objetivo de PHB\n",
    "model.reactions.get_by_id('BIOMASS_BS_10').objective_coefficient = 0\n",
    "model.reactions.get_by_id('BIOMASS_BS_10').objective_coefficient = 0\n",
    "model.reactions.get_by_id('Ex_PHB').objective_coefficient = 1.0\n",
    "model.objective = model.reactions.Ex_PHB"
   ]
  },
  {
   "cell_type": "code",
   "execution_count": 21,
   "id": "1119085f",
   "metadata": {},
   "outputs": [],
   "source": [
    "# Solución\n",
    "solution = model.optimize() # 'solution' se almacena en 'model.solution'"
   ]
  },
  {
   "cell_type": "code",
   "execution_count": 22,
   "id": "50355845",
   "metadata": {},
   "outputs": [
    {
     "name": "stdout",
     "output_type": "stream",
     "text": [
      "Velocidad de produccion de Biomasa: 0.0 h^(-1)\n"
     ]
    }
   ],
   "source": [
    "## VELOCIDAD PRODUCCION DE BIOMASA\n",
    "print('Velocidad de produccion de Biomasa:', solution.fluxes['BIOMASS_BS_10'], 'h^(-1)')"
   ]
  },
  {
   "cell_type": "markdown",
   "id": "a66abcca",
   "metadata": {},
   "source": [
    "# NOTA \n",
    "me olvide de editar aca seria velocidad de produccion de biomasa va ser 0 por que solamente esta calculando la cuantificacion del phb y cuando le damos solution fluxes a la biomasa que ya esta dado en la lista de reacciones al inicio entonces va ser 0 asi lo lee el jupyteR PERO SI SE ESTUBIESE CUANTIFICANDO  BIOMASA NOS DARIA OTRO RESULTADO"
   ]
  },
  {
   "cell_type": "code",
   "execution_count": 23,
   "id": "f2ab494b",
   "metadata": {},
   "outputs": [
    {
     "name": "stdout",
     "output_type": "stream",
     "text": [
      "Velocidad de producción de PHB: 0.5806451612903225 mmol gdcw^(-1) h^(-1)\n"
     ]
    }
   ],
   "source": [
    "## Velocidad de producción de PHB\n",
    "print('Velocidad de producción de PHB:', solution.fluxes['Ex_PHB'], 'mmol gdcw^(-1) h^(-1)')"
   ]
  },
  {
   "cell_type": "code",
   "execution_count": 24,
   "id": "bfde558c",
   "metadata": {},
   "outputs": [
    {
     "name": "stdout",
     "output_type": "stream",
     "text": [
      "Rendimiento de PHB: 0.34155597722960146 mol PHB/mol glucosa\n"
     ]
    }
   ],
   "source": [
    "# Rendimiento de PHB\n",
    "print('Rendimiento de PHB:', solution.fluxes['Ex_PHB'] / (-1 * solution.fluxes['EX_glc__D_e']), 'mol PHB/mol glucosa')"
   ]
  },
  {
   "cell_type": "markdown",
   "id": "d36e0bf3",
   "metadata": {},
   "source": [
    "## Optimización de fuentes de carbono, nitrógeno, oxígeno  y de otros nutrientes "
   ]
  },
  {
   "cell_type": "markdown",
   "id": "9e455cf6",
   "metadata": {},
   "source": [
    "### Sacarosa (carbono)"
   ]
  },
  {
   "cell_type": "code",
   "execution_count": 25,
   "id": "0766140e",
   "metadata": {},
   "outputs": [
    {
     "name": "stdout",
     "output_type": "stream",
     "text": [
      "Velocidad de producción de PHB: 1.2387096774193567 mmol gdcw^(-1) h^(-1)\n"
     ]
    }
   ],
   "source": [
    "medium = model.medium\n",
    "with model:\n",
    "    medium['EX_glc__D_e'] = 0\n",
    "    medium['EX_sucr_e'] = 1.7\n",
    "    model.medium = medium\n",
    "    solution = model.optimize()\n",
    "    print('Velocidad de producción de PHB:', solution.fluxes['Ex_PHB'], 'mmol gdcw^(-1) h^(-1)')"
   ]
  },
  {
   "cell_type": "code",
   "execution_count": 26,
   "id": "610f91d7",
   "metadata": {},
   "outputs": [
    {
     "name": "stdout",
     "output_type": "stream",
     "text": [
      "Rendimiento de PHB: 0.728652751423151 mol PHB/mol sacarosa\n"
     ]
    }
   ],
   "source": [
    "# Rendimiento de PHB\n",
    "print('Rendimiento de PHB:', solution.fluxes['Ex_PHB'] / (-1 * solution.fluxes['EX_sucr_e']), 'mol PHB/mol sacarosa')"
   ]
  },
  {
   "cell_type": "markdown",
   "id": "1bc5731e",
   "metadata": {},
   "source": [
    "### Glicina(nitrogeno)"
   ]
  },
  {
   "cell_type": "code",
   "execution_count": 27,
   "id": "3c0c2b35",
   "metadata": {},
   "outputs": [
    {
     "name": "stdout",
     "output_type": "stream",
     "text": [
      "Velocidad de producción de PHB: 0.7122580645161287 mmol gdcw^(-1) h^(-1)\n"
     ]
    }
   ],
   "source": [
    "medium = model.medium\n",
    "with model:\n",
    "    medium['EX_sucr_e'] = 0\n",
    "    medium['EX_gly_e'] = 1.7\n",
    "    model.medium = medium\n",
    "    solution = model.optimize()\n",
    "    print('Velocidad de producción de PHB:', solution.fluxes['Ex_PHB'], 'mmol gdcw^(-1) h^(-1)')"
   ]
  },
  {
   "cell_type": "code",
   "execution_count": 28,
   "id": "a68f7874",
   "metadata": {},
   "outputs": [
    {
     "name": "stdout",
     "output_type": "stream",
     "text": [
      "Rendimiento de PHB: 0.418975332068311 mol PHB/mol glicina\n"
     ]
    }
   ],
   "source": [
    "# Rendimiento de PHB\n",
    "print('Rendimiento de PHB:', solution.fluxes['Ex_PHB'] / (-1 * solution.fluxes['EX_gly_e']), 'mol PHB/mol glicina')"
   ]
  },
  {
   "cell_type": "markdown",
   "id": "60af99b4",
   "metadata": {},
   "source": [
    "### Fructosa (carbono)"
   ]
  },
  {
   "cell_type": "code",
   "execution_count": 29,
   "id": "523efca4",
   "metadata": {},
   "outputs": [
    {
     "name": "stdout",
     "output_type": "stream",
     "text": [
      "Velocidad de producción de PHB: 1.238709677419353 mmol gdcw^(-1) h^(-1)\n"
     ]
    }
   ],
   "source": [
    "medium = model.medium\n",
    "with model:\n",
    "    medium['EX_gly_e'] = 0\n",
    "    medium['EX_fru_e'] = 1.7\n",
    "    model.medium = medium\n",
    "    solution = model.optimize()\n",
    "    print('Velocidad de producción de PHB:', solution.fluxes['Ex_PHB'], 'mmol gdcw^(-1) h^(-1)')"
   ]
  },
  {
   "cell_type": "code",
   "execution_count": 30,
   "id": "b994586d",
   "metadata": {},
   "outputs": [
    {
     "name": "stdout",
     "output_type": "stream",
     "text": [
      "Rendimiento de PHB: 0.7286527514231488 mol PHB/mol fructosa\n"
     ]
    }
   ],
   "source": [
    "# Rendimiento de PHB\n",
    "print('Rendimiento de PHB:', solution.fluxes['Ex_PHB'] / (-1 * solution.fluxes['EX_fru_e']), 'mol PHB/mol fructosa')"
   ]
  },
  {
   "cell_type": "markdown",
   "id": "caf5933d",
   "metadata": {},
   "source": [
    "### Volviendo al medio predeterminado (glucosa mejor fuente)"
   ]
  },
  {
   "cell_type": "code",
   "execution_count": 31,
   "id": "8d3a01eb",
   "metadata": {},
   "outputs": [
    {
     "name": "stdout",
     "output_type": "stream",
     "text": [
      "Velocidad de producción de PHB: 0.5806451612903216 mmol gdcw^(-1) h^(-1)\n"
     ]
    }
   ],
   "source": [
    "medium = model.medium\n",
    "with model:\n",
    "    medium['EX_fru_e'] = 0\n",
    "    medium['EX_glc__D_e'] = 1.7\n",
    "    model.medium = medium\n",
    "    solution = model.optimize()\n",
    "    print('Velocidad de producción de PHB:', solution.fluxes['Ex_PHB'], 'mmol gdcw^(-1) h^(-1)')"
   ]
  },
  {
   "cell_type": "markdown",
   "id": "52bcf4a3",
   "metadata": {},
   "source": [
    "# Yp/X"
   ]
  },
  {
   "cell_type": "code",
   "execution_count": 32,
   "id": "e2a173bb",
   "metadata": {},
   "outputs": [
    {
     "name": "stdout",
     "output_type": "stream",
     "text": [
      "Rendimiento de PHB: 0.34155597722960096 mol PHB/mol glucosa\n"
     ]
    }
   ],
   "source": [
    "# Rendimiento de PHB\n",
    "print('Rendimiento de PHB:', solution.fluxes['Ex_PHB'] / (-1 * solution.fluxes['EX_glc__D_e']), 'mol PHB/mol glucosa')"
   ]
  },
  {
   "cell_type": "markdown",
   "id": "af15e18c",
   "metadata": {},
   "source": [
    "## Knock-out de reacciones"
   ]
  },
  {
   "cell_type": "code",
   "execution_count": 33,
   "id": "8c3aed8c",
   "metadata": {},
   "outputs": [],
   "source": [
    "from cobra.io import read_sbml_model, write_sbml_model # Para leer archivo sbml\n",
    "model = read_sbml_model('datos/iYO844.xml')  # Archivo \"iMZ1055.xml\"\n",
    "write_sbml_model(model, 'datos/iYO844.xml')"
   ]
  },
  {
   "cell_type": "markdown",
   "id": "1051e92b",
   "metadata": {},
   "source": [
    "1.928571428571398"
   ]
  },
  {
   "cell_type": "markdown",
   "id": "08c35c01",
   "metadata": {},
   "source": [
    "**a) En reacción de biomasa**"
   ]
  },
  {
   "cell_type": "code",
   "execution_count": 34,
   "id": "4a806601",
   "metadata": {},
   "outputs": [
    {
     "data": {
      "text/plain": [
       "1.9285714285714315"
      ]
     },
     "execution_count": 34,
     "metadata": {},
     "output_type": "execute_result"
    }
   ],
   "source": [
    "mutant1 = model.copy()\n",
    "mutant1.reactions.BIOMASS_BS_10.knock_out() # KO a biomasa\n",
    "mutant1.objective = \"ACACT1r\" # Función objetivo: flujo de PHB\n",
    "solution1 = mutant1.optimize() # Optimizando flujo de PHB\n",
    "solution1.fluxes['ACACT1r']"
   ]
  },
  {
   "cell_type": "code",
   "execution_count": 35,
   "id": "869d0858",
   "metadata": {},
   "outputs": [],
   "source": [
    "import cobra.test\n",
    "from cobra.io import read_sbml_model # Importando lector de archivos 'sbml'"
   ]
  },
  {
   "cell_type": "markdown",
   "id": "74d4e493",
   "metadata": {},
   "source": [
    "## **III. Capitulo 3. Resultados y aplicación de Jupyter Notebook**"
   ]
  },
  {
   "cell_type": "markdown",
   "id": "832a60b6",
   "metadata": {},
   "source": [
    "# BATCH"
   ]
  },
  {
   "cell_type": "code",
   "execution_count": 36,
   "id": "3cf8f3ca",
   "metadata": {},
   "outputs": [],
   "source": [
    "import numpy as np\n",
    "import matplotlib.pyplot as plt\n",
    "import ipywidgets as wg\n",
    "from IPython.display import display\n",
    "from scipy.integrate import odeint\n",
    "import matplotlib.animation as animation\n",
    "from matplotlib.widgets import Slider\n",
    "\n",
    "# tenemos los parametros a evaluar \n",
    "#mumax= Velocidad específica maxima de crecimiento\n",
    "# Ks=  constante de saturacion .\n",
    "#yxs= rendimiento del crecimiento de biomasa en consumo de sustrato\n",
    "#ypx= rendimiento del producto generado por biomasa\n",
    "\n",
    "mumax = 0.1179663893223982     # 1/hora\n",
    "Ks = 1.00         # g/litro\n",
    "Yxs = 0.06939199371905777         # g/g\n",
    "Ypx = 0.34155597722960096        # g/g\n",
    "\n",
    "\n",
    "#ecuaciones a aplicar para  batch\n",
    "def mu(S):\n",
    "    return mumax*S/(Ks + S)\n",
    "\n",
    "def Rg(X,S):\n",
    "    return Ypx*mu(S)\n",
    "    \n",
    "def Rp(X,S):\n",
    "    return -1/Yxs*mu(S)\n",
    "\n",
    "# calculando \n",
    "\n",
    "def xdot(x,t):\n",
    "    X,P,S = x\n",
    "    dX = mu(S)*X\n",
    "    dP = Rg(X,S)*X\n",
    "    dS = Rp(X,S)*X\n",
    "    print(dP)\n",
    "    print(dS)\n",
    "    print(dX)\n",
    "    \n",
    "    return [dX,dP,dS]"
   ]
  },
  {
   "cell_type": "code",
   "execution_count": 37,
   "id": "29f94a47",
   "metadata": {},
   "outputs": [],
   "source": [
    "def myPlot(a) :  \n",
    "    IC = [0.05, 0.0, 10.0]\n",
    "\n",
    "    t = np.linspace(0,30)\n",
    "\n",
    "    sol = odeint(xdot,IC,t)\n",
    "\n",
    "    X,P,S = sol.transpose()\n",
    "    \n",
    "    plt.plot(t,S)\n",
    "\n",
    "\n",
    "\n",
    "    plt.xlabel('Tiempo [hr]')\n",
    "\n",
    "    plt.ylabel('Concentracion [g/litros]')\n",
    "\n",
    "    plt.legend(['Concentracion de Sustrato.',\n",
    "            'Concentracion de Producto.',\n",
    "            'Concentracion de Sustrato',\n",
    "            'Volumen [litros]'])"
   ]
  },
  {
   "cell_type": "code",
   "execution_count": 38,
   "id": "d7a70f39",
   "metadata": {},
   "outputs": [
    {
     "data": {
      "application/vnd.jupyter.widget-view+json": {
       "model_id": "ff06de5027364fd0ad98d0411c0c9da0",
       "version_major": 2,
       "version_minor": 0
      },
      "text/plain": [
       "interactive(children=(FloatSlider(value=1.0, description='a', max=10.0, step=5.0), Output()), _dom_classes=('w…"
      ]
     },
     "metadata": {},
     "output_type": "display_data"
    },
    {
     "data": {
      "text/plain": [
       "<function __main__.myPlot(a)>"
      ]
     },
     "execution_count": 38,
     "metadata": {},
     "output_type": "execute_result"
    }
   ],
   "source": [
    "#ejecutar para mostrar la trayectoria del parametro de sustrato.\n",
    "c_slide= wg.FloatSlider(value=1,min=0,max=10,step=5)\n",
    "\n",
    "wg.interact(myPlot,  a=c_slide)"
   ]
  },
  {
   "cell_type": "markdown",
   "id": "8b1f3f2e",
   "metadata": {},
   "source": [
    "En la Figura 1. Se muestra la disminución de la concentración (g/litros) en función al tiempo (hr), en azul. La concentración de sustrato se puede observar como una curva con una pendiente que disminuye constantemente."
   ]
  },
  {
   "cell_type": "code",
   "execution_count": 39,
   "id": "1fa93148",
   "metadata": {},
   "outputs": [],
   "source": [
    "def myPlot(b) :  \n",
    "    IC = [0.05, 0.0, 10.0]\n",
    "\n",
    "    t = np.linspace(0,80)\n",
    "\n",
    "    sol = odeint(xdot,IC,t)\n",
    "\n",
    "    X,P,S = sol.transpose()\n",
    "    \n",
    "    plt.plot(t,X)\n",
    "\n",
    "\n",
    "\n",
    "    plt.xlabel('Tiempo [hr]')\n",
    "\n",
    "    plt.ylabel('Concentracion [g/litros]')\n",
    "\n",
    "    plt.legend(['Concentracion de Biomasa.',\n",
    "            'Concentracion de Producto.',\n",
    "            'Concentracion de Sustrato',\n",
    "            'Volumen [litros]'])"
   ]
  },
  {
   "cell_type": "code",
   "execution_count": 40,
   "id": "772a3317",
   "metadata": {
    "scrolled": false
   },
   "outputs": [
    {
     "data": {
      "application/vnd.jupyter.widget-view+json": {
       "model_id": "bc44229bda494a95a5497d37cb86c2f7",
       "version_major": 2,
       "version_minor": 0
      },
      "text/plain": [
       "interactive(children=(FloatSlider(value=1.0, description='b'), Output()), _dom_classes=('widget-interact',))"
      ]
     },
     "metadata": {},
     "output_type": "display_data"
    },
    {
     "data": {
      "text/plain": [
       "<function __main__.myPlot(b)>"
      ]
     },
     "execution_count": 40,
     "metadata": {},
     "output_type": "execute_result"
    }
   ],
   "source": [
    "#ejecutar para mostrar la trayectoria del parametro de sustrato.\n",
    "c_slide= wg.FloatSlider(value=1,min=0,max=100,step=0.1)\n",
    "\n",
    "wg.interact(myPlot,  b=c_slide)"
   ]
  },
  {
   "cell_type": "markdown",
   "id": "7e0f61b6",
   "metadata": {},
   "source": [
    "En la Figura 2. Se muestra el aumento de la concentración (g/litros) en función al tiempo (hr), en azul. La concentración de biomasa se puede observar como una curva sigmoidal"
   ]
  },
  {
   "cell_type": "code",
   "execution_count": 41,
   "id": "166eeeca",
   "metadata": {},
   "outputs": [],
   "source": [
    "def myPlot(c) :  \n",
    "    IC = [0.05, 0.0, 10.0]\n",
    "\n",
    "    t = np.linspace(0,80)\n",
    "\n",
    "    sol = odeint(xdot,IC,t)\n",
    "\n",
    "    X,P,S = sol.transpose()\n",
    "    \n",
    "    plt.plot(t,P)\n",
    "\n",
    "\n",
    "\n",
    "    plt.xlabel('Tiempo [hr]')\n",
    "\n",
    "    plt.ylabel('Concentracion [g/litros]')\n",
    "\n",
    "    plt.legend(['Concentracion de Producto.',\n",
    "            'Concentracion de Producto.',\n",
    "            'Concentracion de Sustrato',\n",
    "            'Volumen [litros]'])"
   ]
  },
  {
   "cell_type": "code",
   "execution_count": 42,
   "id": "0f6ce36b",
   "metadata": {
    "scrolled": false
   },
   "outputs": [
    {
     "data": {
      "application/vnd.jupyter.widget-view+json": {
       "model_id": "2a470a31e7e04dba9e82ddba2278aef5",
       "version_major": 2,
       "version_minor": 0
      },
      "text/plain": [
       "interactive(children=(FloatSlider(value=1.0, description='c'), Output()), _dom_classes=('widget-interact',))"
      ]
     },
     "metadata": {},
     "output_type": "display_data"
    },
    {
     "data": {
      "text/plain": [
       "<function __main__.myPlot(c)>"
      ]
     },
     "execution_count": 42,
     "metadata": {},
     "output_type": "execute_result"
    }
   ],
   "source": [
    "#ejecutar para mostrar la trayectoria del parametro de sustrato.\n",
    "c_slide= wg.FloatSlider(value=1,min=0,max=100,step=0.1)\n",
    "wg.interact(myPlot,  c=c_slide)"
   ]
  },
  {
   "cell_type": "markdown",
   "id": "56825157",
   "metadata": {},
   "source": [
    "En la Figura 3. Se muestra el aumento de la concentración (g/litros) en función al tiempo (hr), en azul. La concentración de producto se puede observar como una curva sigmoidal."
   ]
  },
  {
   "cell_type": "code",
   "execution_count": 43,
   "id": "ca581e34",
   "metadata": {},
   "outputs": [],
   "source": [
    "def myPlot(d) :  \n",
    "    IC = [0.05, 0.0, 10.0]\n",
    "\n",
    "    t = np.linspace(0,80)\n",
    "\n",
    "    sol = odeint(xdot,IC,t)\n",
    "\n",
    "    X,P,S = sol.transpose()\n",
    "    \n",
    "    plt.plot(t,S)\n",
    "    plt.plot(t,X)\n",
    "    plt.plot(t,P)\n",
    "\n",
    "\n",
    "\n",
    "    plt.xlabel('Tiempo [hr]')\n",
    "\n",
    "    plt.ylabel('Concentracion [g/litros]')\n",
    "\n",
    "    plt.legend(['Concentracion de Sustrato.',\n",
    "            'Concentracion de Biomasa.',\n",
    "            'Concentracion de Producto',\n",
    "            'Volumen [litros]'])"
   ]
  },
  {
   "cell_type": "code",
   "execution_count": 44,
   "id": "51eb2485",
   "metadata": {
    "scrolled": true
   },
   "outputs": [
    {
     "data": {
      "application/vnd.jupyter.widget-view+json": {
       "model_id": "8dfa5b7e6fa44e1bac1c2b0e37d3da7a",
       "version_major": 2,
       "version_minor": 0
      },
      "text/plain": [
       "interactive(children=(FloatSlider(value=1.0, description='d', max=20.0, step=5.0), Output()), _dom_classes=('w…"
      ]
     },
     "metadata": {},
     "output_type": "display_data"
    },
    {
     "data": {
      "text/plain": [
       "<function __main__.myPlot(d)>"
      ]
     },
     "execution_count": 44,
     "metadata": {},
     "output_type": "execute_result"
    }
   ],
   "source": [
    "#ejecutar para mostrar la trayectoria del parametro de sustrato.\n",
    "c_slide= wg.FloatSlider(value=1,min=0,max=20,step=5)\n",
    "\n",
    "wg.interact(myPlot,  d=c_slide)"
   ]
  },
  {
   "cell_type": "markdown",
   "id": "34b7ef40",
   "metadata": {},
   "source": [
    "En la Figura 4. Se muestra el recorrido de los parámetros las concentraciones en función al tiempo (en azul, naranja, verde), se puede observar cuando la concentración de sustrato disminuye, la concentración de biomasa y producto  están en una misma línea."
   ]
  },
  {
   "cell_type": "markdown",
   "id": "b6c62b27",
   "metadata": {},
   "source": [
    "# FED BATCH"
   ]
  },
  {
   "cell_type": "code",
   "execution_count": 45,
   "id": "a675dc55",
   "metadata": {},
   "outputs": [],
   "source": [
    "%matplotlib inline\n",
    "import matplotlib.pyplot as plt\n",
    "import ipywidgets as wg\n",
    "from IPython.display import display\n",
    "from scipy.integrate import odeint\n",
    "import numpy as np\n",
    "import matplotlib.animation as animation\n",
    "from matplotlib.widgets import Slider\n",
    "\n",
    "# tenemos los parametros a evaluar \n",
    "#mu= Velocidad específica maxima de crecimiento\n",
    "# Ks= constante de semisaturación\n",
    "#yxs= rendimiento del crecimiento de biomasa en consumo de sustrato\n",
    "#Sf=sustrato fresco a una determinada concentración\n",
    "#f(t): caudad  en litros por hora\n",
    "\n",
    "mumax = 0.1179663893223982     # 1/hora\n",
    "Ks = 1.00         # g/litro\n",
    "Yxs = 0.06939199371905777         # g/g\n",
    "Ypx = 0.34155597722960096        # g/g\n",
    "Sf = 1.7         # g/litro\n",
    "\n",
    "# caudal de entrada\n",
    "\n",
    "def F(t):\n",
    "    return 0.05\n",
    "\n",
    "\n",
    "#ecuaciones a aplicar para feed batch\n",
    "def mu(S):\n",
    "    return mumax*S/(Ks + S)\n",
    "\n",
    "def Rg(X,S):\n",
    "    return mu(S)*X\n",
    "    \n",
    "def Rp(X,S):\n",
    "    return Ypx*Rg(X,S)\n",
    "\n",
    "# calculando \n",
    "\n",
    "def xdot(x,t):\n",
    "    X,P,S,V = x\n",
    "    dX = -F(t)*X/V + Rg(X,S)\n",
    "    dP = -F(t)*P/V + Rp(X,S)\n",
    "    dS = F(t)*(Sf-S)/V - Rg(X,S)/Yxs\n",
    "    dV = F(t)\n",
    "    print(dP)\n",
    "    print(dS)\n",
    "    print(dX)\n",
    "    print(dV)\n",
    "    return [dX,dP,dS,dV]"
   ]
  },
  {
   "cell_type": "code",
   "execution_count": 46,
   "id": "fb374ae4",
   "metadata": {},
   "outputs": [],
   "source": [
    "def myPlot(f) :\n",
    "    \n",
    "\n",
    "    IC = [0.05, 0.0, 10.0, 1.0]\n",
    "\n",
    "\n",
    "    t = np.linspace(0,80)\n",
    "\n",
    "    sol = odeint(xdot,IC,t)\n",
    "\n",
    "    X,P,S,V = sol.transpose()\n",
    "\n",
    "\n",
    "\n",
    "    plt.plot(t,S)\n",
    "\n",
    "\n",
    "\n",
    "    plt.xlabel('Tiempo [hr]')\n",
    "\n",
    "    plt.ylabel('Concentracion [g/litros]')\n",
    "\n",
    "    plt.legend(['Concentracion de Sustrato.',\n",
    "            'Concentracion de Producto.',\n",
    "            'Concentracion de Sustrato',\n",
    "            'Volumen [litros]'])"
   ]
  },
  {
   "cell_type": "code",
   "execution_count": 47,
   "id": "f199a70c",
   "metadata": {
    "scrolled": false
   },
   "outputs": [
    {
     "data": {
      "application/vnd.jupyter.widget-view+json": {
       "model_id": "1c8950985ec1435b9df5a5711cfeb80f",
       "version_major": 2,
       "version_minor": 0
      },
      "text/plain": [
       "interactive(children=(FloatSlider(value=1.0, description='f'), Output()), _dom_classes=('widget-interact',))"
      ]
     },
     "metadata": {},
     "output_type": "display_data"
    },
    {
     "data": {
      "text/plain": [
       "<function __main__.myPlot(f)>"
      ]
     },
     "execution_count": 47,
     "metadata": {},
     "output_type": "execute_result"
    }
   ],
   "source": [
    "#ejecutar para mostrar la trayectoria del parametro de sustrato.\n",
    "c_slide= wg.FloatSlider(value=1,min=0,max=100,step=0.1)\n",
    "\n",
    "wg.interact(myPlot,  f=c_slide)"
   ]
  },
  {
   "cell_type": "markdown",
   "id": "30ec0bb0",
   "metadata": {},
   "source": [
    "Se muestra la disminución de la concentración en función al tiempo (en azul), el sustrato límite que podría haber en el reactor considerando que el volumen varía y la concentración son 1,7 g/L."
   ]
  },
  {
   "cell_type": "code",
   "execution_count": 48,
   "id": "45bb98cb",
   "metadata": {},
   "outputs": [],
   "source": [
    "def myPlot(e) :\n",
    "\n",
    "    IC = [0.05, 0.0, 10.0, 1.0]\n",
    "\n",
    "\n",
    "    t = np.linspace(0,80)\n",
    "\n",
    "    sol = odeint(xdot,IC,t)\n",
    "\n",
    "    X,P,S,V = sol.transpose()\n",
    "\n",
    "\n",
    "\n",
    "    plt.plot(t,P)\n",
    "\n",
    "\n",
    "\n",
    "    plt.xlabel('Tiempo [hr]')\n",
    "\n",
    "    plt.ylabel('Concentracion [g/litros]')\n",
    "\n",
    "    plt.legend(['Concentracion de biomasa.',\n",
    "            'Concentracion de Producto.',\n",
    "            'Concentracion de Sustrato',\n",
    "            'Volumen [litros]'])"
   ]
  },
  {
   "cell_type": "code",
   "execution_count": 49,
   "id": "99e22bd9",
   "metadata": {
    "scrolled": false
   },
   "outputs": [
    {
     "data": {
      "application/vnd.jupyter.widget-view+json": {
       "model_id": "071f552c1cb04c49a1f121b43ab145ec",
       "version_major": 2,
       "version_minor": 0
      },
      "text/plain": [
       "interactive(children=(FloatSlider(value=1.0, description='e'), Output()), _dom_classes=('widget-interact',))"
      ]
     },
     "metadata": {},
     "output_type": "display_data"
    },
    {
     "data": {
      "text/plain": [
       "<function __main__.myPlot(e)>"
      ]
     },
     "execution_count": 49,
     "metadata": {},
     "output_type": "execute_result"
    }
   ],
   "source": [
    "#ejecutar para mostrar la trayectoria del parametro de biomasa.\n",
    "c_slide= wg.FloatSlider(value=1,min=0,max=100,step=0.1)\n",
    "\n",
    "wg.interact(myPlot,  e=c_slide)"
   ]
  },
  {
   "cell_type": "markdown",
   "id": "a8f6ab88",
   "metadata": {},
   "source": [
    "En la Figura 6. Se muestra la concentración de biomasa en función al tiempo (en azul),se puede observar cuando la concentración inicial 0 se obtuvo un menor crecimiento y hubo un aumento de biomasa a las 30 horas de cultivo llegando a un máximo de 0,10 g/L ."
   ]
  },
  {
   "cell_type": "code",
   "execution_count": 50,
   "id": "57d2748d",
   "metadata": {},
   "outputs": [],
   "source": [
    "#ejecutamos para poder calcular la simulacion .\n",
    "def myPlot(d) :\n",
    "    \n",
    "    IC = [0.05, 0.0, 10.0, 1.0]\n",
    "    \n",
    "    t = np.linspace(0,50)\n",
    "    sol = odeint(xdot,IC,t)\n",
    "    X,P,S,V = sol.transpose()\n",
    "    plt.plot(t,X)\n",
    "    plt.xlabel('Tiempo [hr]')\n",
    "    plt.ylabel('Concentracion [g/litros]')\n",
    "    plt.legend(['Concentracion de Producto.',\n",
    "            'Concentracion de Producto.',\n",
    "            'Concentracion de Sustrato',\n",
    "            'Volumen [litros]'])"
   ]
  },
  {
   "cell_type": "code",
   "execution_count": 51,
   "id": "81b7b0c7",
   "metadata": {
    "scrolled": false
   },
   "outputs": [
    {
     "data": {
      "application/vnd.jupyter.widget-view+json": {
       "model_id": "5fe00f6d3eb1402c80cfd0644a84e021",
       "version_major": 2,
       "version_minor": 0
      },
      "text/plain": [
       "interactive(children=(FloatSlider(value=50.0, description='d', min=50.0), Output()), _dom_classes=('widget-int…"
      ]
     },
     "metadata": {},
     "output_type": "display_data"
    },
    {
     "data": {
      "text/plain": [
       "<function __main__.myPlot(d)>"
      ]
     },
     "execution_count": 51,
     "metadata": {},
     "output_type": "execute_result"
    }
   ],
   "source": [
    "#ejecutar para mostrar la trayectoria del parametro de producto.\n",
    "c_slide= wg.FloatSlider(value=1,min=50,max=100,step=0.1)\n",
    "\n",
    "wg.interact(myPlot, d=c_slide)"
   ]
  },
  {
   "cell_type": "markdown",
   "id": "5e345f25",
   "metadata": {},
   "source": [
    "En la Figura 7. Se muestra la concentración de producto en función al tiempo (en azul),se puede observar cuando la concentración inicial 0,05 se obtuvo un menor crecimiento y hubo un aumento de crecimiento al as 30 horas de cultivo llegando a un máximo de 0,35 g/L ."
   ]
  },
  {
   "cell_type": "code",
   "execution_count": 52,
   "id": "a890d1ac",
   "metadata": {},
   "outputs": [],
   "source": [
    "def myPlot(g) :\n",
    "\n",
    "    IC = [0.05, 0.0, 10.0, 1.0]\n",
    "\n",
    "\n",
    "    t = np.linspace(0,80)\n",
    "\n",
    "    sol = odeint(xdot,IC,t)\n",
    "\n",
    "    X,P,S,V = sol.transpose()\n",
    "\n",
    "\n",
    "\n",
    "    plt.plot(t,V)\n",
    "\n",
    "\n",
    "    plt.xlabel('Tiempo [hr]')\n",
    "\n",
    "    plt.ylabel('Concentracion [g/litros]')\n",
    "\n",
    "    plt.legend(['Volumen [litros]',\n",
    "            'Concentracion de Producto.',\n",
    "            'Concentracion de Sustrato',\n",
    "            'Volumen [litros]'])"
   ]
  },
  {
   "cell_type": "code",
   "execution_count": 53,
   "id": "025adb95",
   "metadata": {
    "scrolled": false
   },
   "outputs": [
    {
     "data": {
      "application/vnd.jupyter.widget-view+json": {
       "model_id": "0e1ffbbf4eef4e46aded601fef63d45c",
       "version_major": 2,
       "version_minor": 0
      },
      "text/plain": [
       "interactive(children=(FloatSlider(value=1.0, description='g'), Output()), _dom_classes=('widget-interact',))"
      ]
     },
     "metadata": {},
     "output_type": "display_data"
    },
    {
     "data": {
      "text/plain": [
       "<function __main__.myPlot(g)>"
      ]
     },
     "execution_count": 53,
     "metadata": {},
     "output_type": "execute_result"
    }
   ],
   "source": [
    "#ejecutar para mostrar la trayectoria del parametro de volumen.\n",
    "c_slide= wg.FloatSlider(value=1,min=0,max=100,step=0.1)\n",
    "\n",
    "wg.interact(myPlot,  g=c_slide)"
   ]
  },
  {
   "cell_type": "markdown",
   "id": "58598aa5",
   "metadata": {},
   "source": [
    "En la Figura 8. Se muestra la concentración del volumen en función al tiempo (en azul),se puede observar cuando la concentración se aumenta hay un mayor volumen en el tiempo en este caso al iniciar con 0 h hasta 80 h obtenemos un volumen de 5 g/L."
   ]
  },
  {
   "cell_type": "code",
   "execution_count": 54,
   "id": "b21c2fa0",
   "metadata": {},
   "outputs": [],
   "source": [
    "%matplotlib notebook\n",
    "%matplotlib notebook\n",
    "def myPlot(c) :\n",
    "    \n",
    "    IC = [0.05, 0.0, 10.0, 1.0]\n",
    "    \n",
    "    t = np.linspace(0,50)\n",
    "    \n",
    "    sol = odeint(xdot,IC,t)\n",
    "    \n",
    "    X,P,S,V = sol.transpose()\n",
    "    \n",
    "    plt.plot(t,X)\n",
    "    plt.plot(t,P,)\n",
    "    plt.plot(t,S,)\n",
    "    plt.plot(t,V,)\n",
    "    plt.xlabel('Tiempo [hr]')\n",
    "    plt.ylabel('Concentracion [g/litros]')\n",
    "    plt.legend(['Concentracion de biomasa.',\n",
    "            'Concentracion de Producto.',\n",
    "            'Concentracion de Sustrato',\n",
    "            'Volumen [litros]'])"
   ]
  },
  {
   "cell_type": "code",
   "execution_count": 55,
   "id": "50f43e39",
   "metadata": {
    "scrolled": false
   },
   "outputs": [
    {
     "data": {
      "application/vnd.jupyter.widget-view+json": {
       "model_id": "03685c3cccc64a06b9f25305bd53b6b3",
       "version_major": 2,
       "version_minor": 0
      },
      "text/plain": [
       "interactive(children=(FloatSlider(value=50.0, description='c', min=50.0), Output()), _dom_classes=('widget-int…"
      ]
     },
     "metadata": {},
     "output_type": "display_data"
    },
    {
     "data": {
      "text/plain": [
       "<function __main__.myPlot(c)>"
      ]
     },
     "execution_count": 55,
     "metadata": {},
     "output_type": "execute_result"
    }
   ],
   "source": [
    "#ejecutar para mostrar la trayectoria de los parametros .\n",
    "#ejecutamos interacccion para poder ajustar el acercamiento y alejamiento y ver los valores del eje x como y\n",
    "c_slide= wg.FloatSlider(value=1,min=50,max=100,step=0.1)\n",
    "\n",
    "wg.interact(myPlot, c=c_slide)"
   ]
  },
  {
   "cell_type": "markdown",
   "id": "b3a3528c",
   "metadata": {},
   "source": [
    "En la Figura 9. Se muestra el recorrido de los parámetros las concentraciones en función al tiempo (en azul, naranja, verde y rojo), se puede observar cuando la concentración se aumenta hay un mayor rendimiento del cultivo Feed Batch"
   ]
  },
  {
   "cell_type": "markdown",
   "id": "6a37bdbb",
   "metadata": {},
   "source": [
    "# **IV.\tConclusiones** "
   ]
  },
  {
   "cell_type": "markdown",
   "id": "8549f9a2",
   "metadata": {},
   "source": [
    "Los PHB son plásticos microbianos biodegradables, biocompatibles que se obtienen a partir de fuentes renovables. Sus propiedades físicas dependen en gran medida de su estructura química, en especial el PHB, las propiedades físicas de los PHB que se conocen hasta el momento, estos podrían utilizarse como sustitutos de algunos plásticos derivados del petróleo.\n",
    "Se considera que Bacillus subtilis es productor de PHB, utilizando como mejor fuente de carbono a la glucosa y nitrógeno a Glicina.\n",
    "\n",
    "En el cultivo batch y Feed Batch se obtuvieron los parámetros cineticos: velocidad específica máxima de crecimiento 0.1179663893223982 1/hora, constante de afinidad del sustrato 1.00 g/litro, rendimiento del crecimiento de biomasa en consumo de sustrato 0.06939199371905777 g/g, rendimiento del producto generado por biomasa 0.34155597722960096 g/g y sustrato 1.7 g/litro.\n",
    "\n",
    "El cultivo Feed Batch se utiliza para describir a un cultivo por lote al que se le añade, continua o secuencialmente el medio. Por lo tanto, el volumen de un cultivo por lote alimentado aumenta con el tiempo. La adición de sustrato produce cambios en las características de la célula que se ven reflejados en las variaciones de los parámetros cinéticos donde se muestra la disminución de la concentración en función al tiempo , el sustrato límite que podría haber en el reactor considerando que el volumen varía y la concentración son 1,7 g/L,la concentración de biomasa se puede observar cuando la concentración inicial 0 se obtuvo un menor crecimiento y hubo un aumento de biomasa a las 30 horas de cultivo llegando a un máximo de 0,10 g/L dando como resultado concentración se obtuvo un menor crecimiento y hubo un aumento de crecimiento al as 30 horas de cultivo llegando a un máximo de 0,35 g/L .\n",
    "\n",
    "Se define como un cultivo en batch donde se alimenta continuamente medio nutritivo, si el nutriente que se alimenta es el limitante del crecimiento, esta técnica permite controlar la velocidad de crecimiento, por lo tanto se muestra la disminución de la concentración (g/litros) en función al tiempo (hr), la concentración de sustrato se puede observar como una curva con una pendiente que disminuye constantemente cuanto mayor tiempo pase 25 a 30 h la concentarcion del sustrato disminuye 1 a 0, la concentración de biomasa y producto se puede observar como una curva sigmoidal.\n",
    "\n",
    "\n"
   ]
  },
  {
   "cell_type": "markdown",
   "id": "589bdad6",
   "metadata": {},
   "source": [
    "# **V. Referencia Bibliográfica**"
   ]
  },
  {
   "cell_type": "markdown",
   "id": "7c230b98",
   "metadata": {},
   "source": [
    "Almeida, A. (2010). Análisis de cepas recombinantes de Escherichia coli productoras de poli (3- hidroxibutirato): efecto de la acumulación del polímero y de la proteína PhaP sobre el metabolismo y la expresión génica. Universidad de Buenos Aires. Obtenido de https://bibliotecadigital.exactas.uba.ar/download/tesis/tesis_n4656_DeAlmeida.pdf\n",
    "        \n",
    "Arraño, N. (2015). Desarrollo de una Estrategia de Operación en Cultivo por Lote Alimentado. UNIVERSIDAD CATÓLICA DE VALPARAÍSO.\n",
    "\n",
    "Cabrera, E., & Díaz, E. (2018). MANUAL DE USO DE JUPYTER NOTEBOOK PARA APLICACIONES DOCENTES. Obtenido de https://eprints.ucm.es/id/eprint/48304/1/ManualJupyter.pdf\n",
    "    \n",
    "Cárcamo, M. (2013). PRODUCCIÓN DE PROTEÍNAS RECOMBINANTES EN CULTIVOS FED-BATCH DE SACCHAROMYCES CEREVISIAE Y ESCHERICHIA COLI. \n",
    "\n",
    "Honorio, C. (2019). Efecto de la concentración de azúcares reductores y extracto de levadura en la producción de polihidroxibutirato por Bacillus sp. empleando residuos de cervecería. Universidad Nacional del Santa.\n",
    "\n",
    "Loera, P. (2003). Simulación estocástica y control óptimo de procesos para el tratamiento de aguas residuales de excretas porcinas. \n",
    "\n",
    "Toro, L. (2017). Anaconda Distribution: La Suite más completa para la Ciencia de datos con Python. \n",
    "    \n",
    "López, A. (2011). biopolímeros de interés industrial síntesis y caracterización de polihidroxibutirato (phb). universidad nacional del sur.Argentina\n",
    "\n",
    "Hassan, MA, Bakhiet, EK, Hussein, HR et al. (2019).  Estudios de optimización estadística para la producción de polihidroxibutirato (PHB) por el nuevo Bacillus subtilis utilizando desechos agrícolas e industriales. En t. J. Medio Ambiente. ciencia Tecnología 16, 3497–3512 (2019). https://doi.org/10.1007/s13762-018-1900-y\n",
    "\n"
   ]
  },
  {
   "cell_type": "code",
   "execution_count": null,
   "id": "310c86d1",
   "metadata": {},
   "outputs": [],
   "source": []
  }
 ],
 "metadata": {
  "kernelspec": {
   "display_name": "Python 3",
   "language": "python",
   "name": "python3"
  },
  "language_info": {
   "codemirror_mode": {
    "name": "ipython",
    "version": 3
   },
   "file_extension": ".py",
   "mimetype": "text/x-python",
   "name": "python",
   "nbconvert_exporter": "python",
   "pygments_lexer": "ipython3",
   "version": "3.8.8"
  }
 },
 "nbformat": 4,
 "nbformat_minor": 5
}
